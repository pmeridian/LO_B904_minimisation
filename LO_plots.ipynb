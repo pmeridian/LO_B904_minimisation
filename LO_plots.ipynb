{
 "cells": [
  {
   "cell_type": "code",
   "execution_count": 1,
   "id": "1bc6e49b-32ff-4dc2-8a06-0175794676f0",
   "metadata": {},
   "outputs": [
    {
     "name": "stdout",
     "output_type": "stream",
     "text": [
      "Welcome to JupyROOT 6.24/00\n"
     ]
    }
   ],
   "source": [
    "import ROOT as R"
   ]
  },
  {
   "cell_type": "code",
   "execution_count": 2,
   "id": "32139488-e979-4496-879a-81e08c0409a1",
   "metadata": {},
   "outputs": [],
   "source": [
    "data={\n",
    "    'HPK-2E14_479':{\n",
    "        'CH08':{0.8:'479_HPK_CH08_OV0.8_Tm40_run165',1.0:'479_HPK_CH08_OV1.0_Tm40_run166',1.2:'479_HPK_CH08_OV1.2_Tm40_run167'},\n",
    "        'CH10':{0.8:'479_HPK_CH10_OV0.8_Tm40_run169',1.0:'479_HPK_CH10_OV1.0_Tm40_run170'},\n",
    "    },\n",
    "    'FBK-2E14_480':{\n",
    "        'CH07':{0.8:'480_FBK_CH07_OV0.8_Tm40_run187',1.0:'480_FBK_CH07_OV1.0_Tm40_run188',1.2:'480_FBK_CH07_OV1.2_Tm40_run191'},\n",
    "        'CH09':{0.8:'480_FBK_CH09_OV0.8_Tm40_run176',1.0:'480_FBK_CH09_OV1.0_Tm40_run177',1.2:'480_FBK_CH09_OV1.2_Tm40_run180_v2'},\n",
    "    }\n",
    "}"
   ]
  },
  {
   "cell_type": "code",
   "execution_count": 3,
   "id": "d0db4a69-d0ef-47a1-918f-08f33dcd5379",
   "metadata": {},
   "outputs": [
    {
     "name": "stdout",
     "output_type": "stream",
     "text": [
      "HPK-2E14_479 CH08 0.8 479_HPK_CH08_OV0.8_Tm40_run165\n",
      "HPK-2E14_479 CH08 1.0 479_HPK_CH08_OV1.0_Tm40_run166\n",
      "HPK-2E14_479 CH08 1.2 479_HPK_CH08_OV1.2_Tm40_run167\n",
      "HPK-2E14_479 CH10 0.8 479_HPK_CH10_OV0.8_Tm40_run169\n",
      "HPK-2E14_479 CH10 1.0 479_HPK_CH10_OV1.0_Tm40_run170\n",
      "FBK-2E14_480 CH07 0.8 480_FBK_CH07_OV0.8_Tm40_run187\n",
      "FBK-2E14_480 CH07 1.0 480_FBK_CH07_OV1.0_Tm40_run188\n",
      "FBK-2E14_480 CH07 1.2 480_FBK_CH07_OV1.2_Tm40_run191\n",
      "FBK-2E14_480 CH09 0.8 480_FBK_CH09_OV0.8_Tm40_run176\n",
      "FBK-2E14_480 CH09 1.0 480_FBK_CH09_OV1.0_Tm40_run177\n",
      "FBK-2E14_480 CH09 1.2 480_FBK_CH09_OV1.2_Tm40_run180_v2\n"
     ]
    }
   ],
   "source": [
    "import pandas as pd\n",
    "\n",
    "fitResults=[]\n",
    "\n",
    "files={}\n",
    "graphs={}\n",
    "for array,array_data in data.items():\n",
    "    for ch,ch_data in array_data.items():\n",
    "        for ov,ov_data in ch_data.items():\n",
    "            print(array,ch,ov,ov_data)\n",
    "            files[ov_data]=R.TFile('results/fit_%s.root'%ov_data)\n",
    "            graphs[ov_data]=files[ov_data].Get('fitResults')\n",
    "            fitResults.append({'array':array,'ch':ch,'ov':ov,'scale':graphs[ov_data].GetPointY(1),'smear':graphs[ov_data].GetPointY(2)})"
   ]
  },
  {
   "cell_type": "code",
   "execution_count": 4,
   "id": "cfdcd6d9-eb48-43db-97c3-589297c0d5f0",
   "metadata": {},
   "outputs": [],
   "source": [
    "#print(fitResults)"
   ]
  },
  {
   "cell_type": "code",
   "execution_count": 5,
   "id": "3476b59b-bea4-4a2e-8511-39cb2579b282",
   "metadata": {},
   "outputs": [
    {
     "name": "stdout",
     "output_type": "stream",
     "text": [
      "           array    ch   ov     scale       smear\n",
      "0   HPK-2E14_479  CH08  0.8  0.840057  186.967442\n",
      "1   HPK-2E14_479  CH08  1.0  0.832465  262.712618\n",
      "2   HPK-2E14_479  CH08  1.2  0.773225  350.577590\n",
      "3   HPK-2E14_479  CH10  0.8  0.817920  186.219027\n",
      "4   HPK-2E14_479  CH10  1.0  0.801055  276.232992\n",
      "5   FBK-2E14_480  CH07  0.8  0.970170  300.318634\n",
      "6   FBK-2E14_480  CH07  1.0  0.967225  406.122895\n",
      "7   FBK-2E14_480  CH07  1.2  0.890854  565.023436\n",
      "8   FBK-2E14_480  CH09  0.8  0.925092  281.031662\n",
      "9   FBK-2E14_480  CH09  1.0  0.942098  385.779015\n",
      "10  FBK-2E14_480  CH09  1.2  0.895151  527.374737\n"
     ]
    }
   ],
   "source": [
    "fitData=pd.DataFrame.from_records(fitResults)\n",
    "print(fitData)"
   ]
  },
  {
   "cell_type": "code",
   "execution_count": 6,
   "id": "82bd1e92-2e00-4448-b818-d7bb80ced377",
   "metadata": {},
   "outputs": [
    {
     "name": "stdout",
     "output_type": "stream",
     "text": [
      "[0.8 1.  1.2]\n"
     ]
    }
   ],
   "source": [
    "ov_values=fitData['ov'].unique()\n",
    "print(ov_values)"
   ]
  },
  {
   "cell_type": "code",
   "execution_count": 17,
   "id": "4f10d5f3-fddc-4cff-a2d1-f2d244cf259e",
   "metadata": {},
   "outputs": [],
   "source": [
    "for array in fitData['array'].unique():\n",
    "    my_data=fitData[fitData['array']==array]\n",
    "    graphs[array]={}\n",
    "    for ch in my_data['ch'].unique():\n",
    "        graphs[array][ch+'_scale']=R.TGraphErrors()\n",
    "        graphs[array][ch+'_smear']=R.TGraphErrors()\n",
    "        for i_ov,ov in enumerate(ov_values):\n",
    "            if(len(my_data[(my_data['ch']==ch) & (my_data['ov']==ov)])>0):\n",
    "                graphs[array][ch+'_scale'].SetPoint(i_ov,ov,my_data[(my_data['ch']==ch) & (my_data['ov']==ov)]['scale'])\n",
    "                graphs[array][ch+'_smear'].SetPoint(i_ov,ov,my_data[(my_data['ch']==ch) & (my_data['ov']==ov)]['smear'])\n",
    "        graphs[array][ch+'_scale'].SetName(array+'_'+ch+'_scale')\n",
    "        graphs[array][ch+'_smear'].SetName(array+'_'+ch+'_smear')\n",
    "        #graphs[array][ch+'_scale'].Print()\n",
    "        \n",
    "    graphs[array]['mean_scale']=R.TGraphErrors()\n",
    "    graphs[array]['mean_smear']=R.TGraphErrors()\n",
    "    for i_ov,ov in enumerate(ov_values):\n",
    "        graphs[array]['mean_scale'].SetPoint(i_ov,ov,fitData[ (fitData['array']==array) & (fitData['ov']==ov) ]['scale'].mean())\n",
    "        graphs[array]['mean_smear'].SetPoint(i_ov,ov,fitData[ (fitData['array']==array) & (fitData['ov']==ov) ]['smear'].mean())\n",
    "    graphs[array]['mean_scale'].SetName(array+'_mean_scale')\n",
    "    graphs[array]['mean_scale'].SetName(array+'_mean_smear')\n",
    "    #graphs[array]['mean_scale'].Print()"
   ]
  },
  {
   "cell_type": "code",
   "execution_count": 8,
   "id": "409604e4-5f76-4a7f-92e2-636d537f4041",
   "metadata": {},
   "outputs": [],
   "source": [
    "c1=R.TCanvas('c1','c1',800,600)\n",
    "t=R.TLatex()\n",
    "t.SetTextSize(0.035)\n",
    "\n",
    "l=R.TLegend(0.75,0.75,0.88,0.88)\n",
    "l.SetTextSize(0.035)\n",
    "l.SetFillColorAlpha(0,0)\n",
    "l.SetBorderSize(0)"
   ]
  },
  {
   "cell_type": "code",
   "execution_count": 20,
   "id": "8fca4a22-d058-448e-b048-7cfc4e677637",
   "metadata": {},
   "outputs": [
    {
     "name": "stderr",
     "output_type": "stream",
     "text": [
      "Info in <TCanvas::Print>: png file results/scale_HPK-2E14_479.png has been created\n",
      "Info in <TCanvas::Print>: pdf file results/scale_HPK-2E14_479.pdf has been created\n",
      "Info in <TCanvas::Print>: png file results/scale_FBK-2E14_480.png has been created\n",
      "Info in <TCanvas::Print>: pdf file results/scale_FBK-2E14_480.pdf has been created\n",
      "Info in <TCanvas::Print>: png file results/smear_HPK-2E14_479.png has been created\n",
      "Info in <TCanvas::Print>: pdf file results/smear_HPK-2E14_479.pdf has been created\n",
      "Info in <TCanvas::Print>: png file results/smear_FBK-2E14_480.png has been created\n",
      "Info in <TCanvas::Print>: pdf file results/smear_FBK-2E14_480.pdf has been created\n"
     ]
    },
    {
     "data": {
      "image/png": "[encoded data removed]",
      "text/plain": [
       "<IPython.core.display.Image object>"
      ]
     },
     "metadata": {},
     "output_type": "display_data"
    }
   ],
   "source": [
    "for par in ['scale','smear']:\n",
    "    for array in fitData['array'].unique():\n",
    "        l.Clear()\n",
    "        graphs[array]['mean_%s'%par].SetLineWidth(3)\n",
    "        l.AddEntry(graphs[array]['mean_%s'%par],'Mean','L')\n",
    "        graphs[array]['mean_%s'%par].Draw('APL*')\n",
    "        if (par=='scale'):\n",
    "            graphs[array]['mean_%s'%par].GetHistogram().GetYaxis().SetLimits(0.7,1.1)\n",
    "            graphs[array]['mean_%s'%par].GetHistogram().GetYaxis().SetRangeUser(0.7,1.1)\n",
    "            graphs[array]['mean_%s'%par].GetHistogram().GetYaxis().SetTitle('Rel LO')\n",
    "            graphs[array]['mean_%s'%par].GetHistogram().GetXaxis().SetTitle('OV [V]')\n",
    "        elif (par=='smear'):\n",
    "            graphs[array]['mean_%s'%par].GetHistogram().GetYaxis().SetLimits(100,700)\n",
    "            graphs[array]['mean_%s'%par].GetHistogram().GetYaxis().SetRangeUser(100,700)\n",
    "            graphs[array]['mean_%s'%par].GetHistogram().GetYaxis().SetTitle('DCR Noise (a.u.)')\n",
    "            graphs[array]['mean_%s'%par].GetHistogram().GetXaxis().SetTitle('OV [V]')\n",
    "\n",
    "        for i_ch,ch in enumerate(fitData[fitData['array']==array]['ch'].unique()):\n",
    "            graphs[array][ch+'_%s'%par].SetMarkerStyle(24+i_ch)\n",
    "            graphs[array][ch+'_%s'%par].SetMarkerSize(1.4)\n",
    "            graphs[array][ch+'_%s'%par].SetMarkerColor(i_ch+3)\n",
    "            graphs[array][ch+'_%s'%par].SetLineColor(i_ch+3)\n",
    "            l.AddEntry(graphs[array][ch+'_%s'%par],ch,'PL')\n",
    "            graphs[array][ch+'_%s'%par].Draw('PLSAME')\n",
    "        t.DrawLatexNDC(0.12,0.92,'%s'%array.replace('_',' LYSO #'))\n",
    "        l.Draw()\n",
    "        for ext in ['.png','.pdf']:\n",
    "            c1.SaveAs('results/%s_%s%s'%(par,array,ext))\n",
    "        c1.Draw()"
   ]
  },
  {
   "cell_type": "code",
   "execution_count": 22,
   "id": "515a9039-b96d-4d54-8dea-a3c132482789",
   "metadata": {},
   "outputs": [
    {
     "name": "stderr",
     "output_type": "stream",
     "text": [
      "Warning in <TFile::Append>: Replacing existing TH1: a (Potential memory leak).\n",
      "Info in <TCanvas::Print>: png file results/scale_mean.png has been created\n",
      "Info in <TCanvas::Print>: pdf file results/scale_mean.pdf has been created\n",
      "Warning in <TFile::Append>: Replacing existing TH1: a (Potential memory leak).\n",
      "Info in <TCanvas::Print>: png file results/smear_mean.png has been created\n",
      "Info in <TCanvas::Print>: pdf file results/smear_mean.pdf has been created\n"
     ]
    },
    {
     "data": {
      "image/png": "[encoded data removed]",
      "text/plain": [
       "<IPython.core.display.Image object>"
      ]
     },
     "metadata": {},
     "output_type": "display_data"
    }
   ],
   "source": [
    "R.gStyle.SetOptTitle(0)\n",
    "R.gStyle.SetOptStat(0)\n",
    "\n",
    "l=R.TLegend(0.66,0.75,0.88,0.89)\n",
    "l.SetTextSize(0.035)\n",
    "l.SetFillColorAlpha(0,0)\n",
    "l.SetBorderSize(0)\n",
    "\n",
    "for par in ['scale','smear']:\n",
    "    if (par=='scale'):\n",
    "        a=R.TH2F('a','a',10,0.75,1.25,10,0.7,1.1)\n",
    "        a.GetXaxis().SetTitle('OV [V]')\n",
    "        a.GetYaxis().SetTitle('Rel LO')\n",
    "    elif (par=='smear'):\n",
    "        a=R.TH2F('a','a',10,0.75,1.25,10,100,700)\n",
    "        a.GetXaxis().SetTitle('OV [V]')\n",
    "        a.GetYaxis().SetTitle('DCR Noise (a.u.)')\n",
    "\n",
    "    a.Draw()\n",
    "    l.Clear()\n",
    "\n",
    "    for i_ar,array in enumerate(fitData['array'].unique()):\n",
    "    #    graphs[array][ch+'_scale'].SetMarkerStyle(24+i_ch)\n",
    "    #    graphs[array][ch+'_scale'].SetMarkerSize(1.4)\n",
    "        graphs[array]['mean_%s'%par].SetMarkerColor(i_ar+1)\n",
    "        graphs[array]['mean_%s'%par].SetLineColor(i_ar+1)\n",
    "        graphs[array]['mean_%s'%par].Draw('PLSAME')\n",
    "        l.AddEntry(graphs[array]['mean_%s'%par],array.replace('_',' #'),'L')\n",
    "    l.Draw()\n",
    "    for ext in ['.png','.pdf']:\n",
    "        c1.SaveAs('results/%s_mean%s'%(par,ext))\n",
    "    c1.Draw()"
   ]
  },
  {
   "cell_type": "code",
   "execution_count": null,
   "id": "69d576ff-5eaa-467c-917f-3b15489740cf",
   "metadata": {},
   "outputs": [],
   "source": []
  }
 ],
 "metadata": {
  "kernelspec": {
   "display_name": "Python 3",
   "language": "python",
   "name": "python3"
  },
  "language_info": {
   "codemirror_mode": {
    "name": "ipython",
    "version": 3
   },
   "file_extension": ".py",
   "mimetype": "text/x-python",
   "name": "python",
   "nbconvert_exporter": "python",
   "pygments_lexer": "ipython3",
   "version": "3.9.4"
  }
 },
 "nbformat": 4,
 "nbformat_minor": 5
}
