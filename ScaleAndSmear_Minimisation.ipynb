{
 "cells": [
  {
   "cell_type": "code",
   "execution_count": 1,
   "id": "8ad9c585-9dab-4418-8e0c-6b601e85d22e",
   "metadata": {},
   "outputs": [
    {
     "name": "stdout",
     "output_type": "stream",
     "text": [
      "Welcome to JupyROOT 6.24/00\n"
     ]
    }
   ],
   "source": [
    "import ROOT as R"
   ]
  },
  {
   "cell_type": "code",
   "execution_count": 2,
   "id": "83475e39-0e90-4ed0-aaf9-9bfe7d556aa5",
   "metadata": {},
   "outputs": [
    {
     "name": "stderr",
     "output_type": "stream",
     "text": [
      "Warning in <TClass::Init>: no dictionary for class CfgManager is available\n"
     ]
    }
   ],
   "source": [
    "run_ori='410_HPK_CH09_OV1.0_Tm30_run160'\n",
    "f1=R.TFile('data/h4Reco_%s.root'%run_ori)"
   ]
  },
  {
   "cell_type": "code",
   "execution_count": 3,
   "id": "a7b8c152-5c42-4677-82b1-40b1ff4c4fa9",
   "metadata": {},
   "outputs": [],
   "source": [
    "fft_digi_ori=f1.Get(\"fft_digi\")\n",
    "h_ori=R.TH1F('h_ori','h_ori',200,0,10000)"
   ]
  },
  {
   "cell_type": "code",
   "execution_count": 4,
   "id": "1e8bdb0f-0677-4f77-96d4-c690490b872d",
   "metadata": {},
   "outputs": [],
   "source": [
    "for e in fft_digi_ori:\n",
    "    h_ori.Fill(e.charge_sig[0])"
   ]
  },
  {
   "cell_type": "code",
   "execution_count": 5,
   "id": "55f76946-4df1-4dd8-9180-76940dc68cbd",
   "metadata": {},
   "outputs": [
    {
     "name": "stdout",
     "output_type": "stream",
     "text": [
      "1 2275.0\n"
     ]
    }
   ],
   "source": [
    "ps_ori=R.TSpectrum(6)\n",
    "n_peaks_ori=ps_ori.Search(h_ori,3,\"goff\",0.8)\n",
    "if(n_peaks_ori>0):\n",
    "    print(n_peaks_ori,ps_ori.GetPositionX()[n_peaks_ori-1])"
   ]
  },
  {
   "cell_type": "code",
   "execution_count": 6,
   "id": "a48b457f-60d0-46a0-b9c4-95f75b4a1acf",
   "metadata": {},
   "outputs": [],
   "source": [
    "c1=R.TCanvas('c1','c1',800,600)"
   ]
  },
  {
   "cell_type": "code",
   "execution_count": 7,
   "id": "ea9cdbb1-ba15-46e1-91e9-688fa2f816c5",
   "metadata": {},
   "outputs": [],
   "source": [
    "rgen=R.TRandom3(100)\n",
    "\n",
    "def smeared_scaled(tree,hFit,norm,scale,smear):\n",
    "    hOut=hFit.Clone('hOut')\n",
    "    hOut.Reset()\n",
    "    for j in range(5):\n",
    "        for e in tree:\n",
    "            hOut.Fill(e.charge_sig[0]*scale+rgen.Gaus(0,smear),norm)\n",
    "#    hOut.Sumw2()\n",
    "    hOut.Scale(1/5.)\n",
    "    hOut.Smooth()\n",
    "    return hOut\n",
    "\n",
    "def chi2_func(norm,scale,smear):\n",
    "    chi2=0\n",
    "    hOut=smeared_scaled(fft_digi_ori,h_2,norm,scale,smear)\n",
    "    for i in range(min_bin,max_bin):\n",
    "        chi2+=(h_2.GetBinContent(i)-hOut.GetBinContent(i))**2/(h_2.GetBinError(i)**2+(hOut.GetBinError(i)*5)**2)\n",
    "    return chi2"
   ]
  },
  {
   "cell_type": "code",
   "execution_count": 8,
   "id": "510bfbfa-fe7a-4abe-85f2-e08bc624f81a",
   "metadata": {},
   "outputs": [],
   "source": [
    "run_target='479_HPK_CH08_OV1.0_Tm40_run166'\n",
    "f2=R.TFile('data/h4Reco_%s.root'%run_target)\n",
    "\n",
    "fft_digi_2=f2.Get(\"fft_digi\")\n",
    "fft_digi_2.SetBranchStatus(\"*\",0)\n",
    "fft_digi_2.SetBranchStatus(\"charge_sig\",1)\n",
    "\n",
    "h_2=R.TH1F('h_2','h_2',200,0,10000)"
   ]
  },
  {
   "cell_type": "code",
   "execution_count": 9,
   "id": "a4b3723b-fb2f-4dc0-a0d4-4c318acf6fc8",
   "metadata": {},
   "outputs": [],
   "source": [
    "for e in fft_digi_2:\n",
    "    h_2.Fill(e.charge_sig[0])"
   ]
  },
  {
   "cell_type": "code",
   "execution_count": 10,
   "id": "814b8226-f43e-49cb-9ac8-fa143c44015b",
   "metadata": {},
   "outputs": [
    {
     "name": "stdout",
     "output_type": "stream",
     "text": [
      "2 1825.0\n"
     ]
    }
   ],
   "source": [
    "ps=R.TSpectrum(6)\n",
    "n_peaks=ps.Search(h_2,3,\"goff\",0.8)\n",
    "if(n_peaks>0):\n",
    "    print(n_peaks,ps.GetPositionX()[n_peaks-1])"
   ]
  },
  {
   "cell_type": "code",
   "execution_count": 11,
   "id": "763259f5-4dff-492a-b8df-b217772b5be4",
   "metadata": {},
   "outputs": [],
   "source": [
    "#R.gROOT.ProcessLine('.L ./my_minizer.C+')"
   ]
  },
  {
   "cell_type": "code",
   "execution_count": 12,
   "id": "d39eb377-42bb-4ef9-8fa5-f89f4744f880",
   "metadata": {},
   "outputs": [],
   "source": [
    "#R.NumericalMinimization(fft_digi_ori,h_2,1300,3000)"
   ]
  },
  {
   "cell_type": "code",
   "execution_count": 13,
   "id": "81afd59f-8fff-4d90-8520-c9ba548c1cfb",
   "metadata": {},
   "outputs": [
    {
     "name": "stdout",
     "output_type": "stream",
     "text": [
      "{'norm': 5.85, 'scale': 0.83, 'smear': 240}\n"
     ]
    }
   ],
   "source": [
    "import numpy as np\n",
    "\n",
    "ranges={\n",
    "    'norm':{'ini':5.85,'step':0.1},\n",
    "    'scale':{'ini':0.83,'step':0.005},\n",
    "    'smear':{'ini':240,'step':5}\n",
    "}\n",
    "minG={}\n",
    "#should be made parametric\n",
    "minX=max([.7*ps.GetPositionX()[n_peaks-1],1000])\n",
    "maxX=1.7*ps.GetPositionX()[n_peaks-1]\n",
    "min_bin=h_2.FindBin(minX)\n",
    "max_bin=h_2.FindBin(maxX)\n",
    "init_values={}\n",
    "\n",
    "#init\n",
    "for ipar,(par,par_range) in enumerate(ranges.items()):\n",
    "    minG[par]=R.TGraph()\n",
    "    init_values[par]=par_range['ini']\n",
    "print(init_values)"
   ]
  },
  {
   "cell_type": "code",
   "execution_count": 14,
   "id": "7dcc9d86-dfc7-460a-b02e-3335d66f17ab",
   "metadata": {},
   "outputs": [
    {
     "data": {
      "image/png": "[encoded data removed]",
      "text/plain": [
       "<IPython.core.display.Image object>"
      ]
     },
     "metadata": {},
     "output_type": "display_data"
    }
   ],
   "source": [
    "h_fit=smeared_scaled(fft_digi_ori,h_2,ranges['norm']['ini'],ranges['scale']['ini'],ranges['smear']['ini'])\n",
    "R.gStyle.SetOptStat(0)\n",
    "h_2.SetStats(0)\n",
    "h_2.Draw('PE')\n",
    "h_2.SetMarkerStyle(20)\n",
    "h_2.SetMarkerSize(1.2)\n",
    "h_2.SetMarkerColor(R.kBlack)\n",
    "h_2.SetLineColor(R.kBlack)\n",
    "h_fit.Draw('PSAME')\n",
    "h_fit.SetMarkerColor(R.kRed)\n",
    "h_fit.SetLineColor(R.kRed)\n",
    "#h_ori.Draw('SAME')\n",
    "h_2.SetMaximum(h_2.GetMaximum()*1.6)\n",
    "h_2.GetXaxis().SetRangeUser(minX,maxX)\n",
    "h_2.GetXaxis().SetTitle('ADC')\n",
    "c1.Draw()"
   ]
  },
  {
   "cell_type": "code",
   "execution_count": 15,
   "id": "acf3b15f-4a23-4b40-8e4f-f574fa6c34cc",
   "metadata": {},
   "outputs": [
    {
     "name": "stdout",
     "output_type": "stream",
     "text": [
      "0 norm 0 {'norm': 5.35, 'scale': 0.83, 'smear': 240} 19.81110439589143\n",
      "0 norm 1 {'norm': 5.449999999999999, 'scale': 0.83, 'smear': 240} 15.71683620627726\n",
      "0 norm 2 {'norm': 5.549999999999999, 'scale': 0.83, 'smear': 240} 9.407153483724041\n",
      "0 norm 3 {'norm': 5.649999999999999, 'scale': 0.83, 'smear': 240} 8.956942642870931\n",
      "0 norm 4 {'norm': 5.749999999999998, 'scale': 0.83, 'smear': 240} 7.199859258488022\n",
      "0 norm 5 {'norm': 5.849999999999998, 'scale': 0.83, 'smear': 240} 12.551235403478268\n",
      "0 norm 6 {'norm': 5.9499999999999975, 'scale': 0.83, 'smear': 240} 9.832761499600698\n",
      "0 norm 7 {'norm': 6.049999999999997, 'scale': 0.83, 'smear': 240} 11.79256378290221\n",
      "0 norm 8 {'norm': 6.149999999999997, 'scale': 0.83, 'smear': 240} 13.549090143647897\n",
      "0 norm 9 {'norm': 6.2499999999999964, 'scale': 0.83, 'smear': 240} 19.70506020781933\n",
      "0 scale 0 {'norm': 5.85, 'scale': 0.8049999999999999, 'smear': 240} 57.0877392436905\n",
      "0 scale 1 {'norm': 5.85, 'scale': 0.8099999999999999, 'smear': 240} 45.057523735178705\n",
      "0 scale 2 {'norm': 5.85, 'scale': 0.815, 'smear': 240} 31.37163146526702\n",
      "0 scale 3 {'norm': 5.85, 'scale': 0.82, 'smear': 240} 19.721457406944328\n",
      "0 scale 4 {'norm': 5.85, 'scale': 0.825, 'smear': 240} 15.428841802434052\n",
      "0 scale 5 {'norm': 5.85, 'scale': 0.83, 'smear': 240} 8.901283863034484\n",
      "0 scale 6 {'norm': 5.85, 'scale': 0.835, 'smear': 240} 5.562336477140633\n",
      "0 scale 7 {'norm': 5.85, 'scale': 0.84, 'smear': 240} 5.6091181748681915\n",
      "0 scale 8 {'norm': 5.85, 'scale': 0.845, 'smear': 240} 10.044801253009604\n",
      "0 scale 9 {'norm': 5.85, 'scale': 0.85, 'smear': 240} 15.276717227145856\n",
      "0 scale 10 {'norm': 5.85, 'scale': 0.855, 'smear': 240} 19.615519141862446\n",
      "0 smear 0 {'norm': 5.85, 'scale': 0.83, 'smear': 215} 23.47930534122497\n",
      "0 smear 1 {'norm': 5.85, 'scale': 0.83, 'smear': 220} 24.237226940423202\n",
      "0 smear 2 {'norm': 5.85, 'scale': 0.83, 'smear': 225} 17.95386685093838\n",
      "0 smear 3 {'norm': 5.85, 'scale': 0.83, 'smear': 230} 13.499644285309676\n",
      "0 smear 4 {'norm': 5.85, 'scale': 0.83, 'smear': 235} 9.922123258284676\n",
      "0 smear 5 {'norm': 5.85, 'scale': 0.83, 'smear': 240} 8.32617468338647\n",
      "0 smear 6 {'norm': 5.85, 'scale': 0.83, 'smear': 245} 6.637553245117331\n",
      "0 smear 7 {'norm': 5.85, 'scale': 0.83, 'smear': 250} 4.887329826438623\n",
      "0 smear 8 {'norm': 5.85, 'scale': 0.83, 'smear': 255} 4.132962600003441\n",
      "0 smear 9 {'norm': 5.85, 'scale': 0.83, 'smear': 260} 4.191689933279993\n",
      "=====>  0 4.192548274194168 -99994.8074517258 {'norm': 5.7978269429844, 'scale': 0.8376514347429376, 'smear': 261.6630223191189}\n",
      "1 norm 0 {'norm': 5.35, 'scale': 0.8376514347429376, 'smear': 261.6630223191189} 10.92767163828792\n",
      "1 norm 1 {'norm': 5.449999999999999, 'scale': 0.8376514347429376, 'smear': 261.6630223191189} 6.092658800039778\n",
      "1 norm 2 {'norm': 5.549999999999999, 'scale': 0.8376514347429376, 'smear': 261.6630223191189} 5.9637463420228425\n",
      "1 norm 3 {'norm': 5.649999999999999, 'scale': 0.8376514347429376, 'smear': 261.6630223191189} 2.7957923946774628\n",
      "1 norm 4 {'norm': 5.749999999999998, 'scale': 0.8376514347429376, 'smear': 261.6630223191189} 3.2497048836353835\n",
      "1 norm 5 {'norm': 5.849999999999998, 'scale': 0.8376514347429376, 'smear': 261.6630223191189} 5.86611512395223\n",
      "1 norm 6 {'norm': 5.9499999999999975, 'scale': 0.8376514347429376, 'smear': 261.6630223191189} 7.984266104110036\n",
      "1 norm 7 {'norm': 6.049999999999997, 'scale': 0.8376514347429376, 'smear': 261.6630223191189} 11.404096520927338\n",
      "1 norm 8 {'norm': 6.149999999999997, 'scale': 0.8376514347429376, 'smear': 261.6630223191189} 15.338644941869745\n",
      "1 norm 9 {'norm': 6.2499999999999964, 'scale': 0.8376514347429376, 'smear': 261.6630223191189} 20.958947960339557\n",
      "1 scale 0 {'norm': 5.7978269429844, 'scale': 0.8049999999999999, 'smear': 261.6630223191189} 35.853851737734054\n",
      "1 scale 1 {'norm': 5.7978269429844, 'scale': 0.8099999999999999, 'smear': 261.6630223191189} 24.783244437993837\n",
      "1 scale 2 {'norm': 5.7978269429844, 'scale': 0.815, 'smear': 261.6630223191189} 16.168604002131435\n",
      "1 scale 3 {'norm': 5.7978269429844, 'scale': 0.82, 'smear': 261.6630223191189} 8.606926008255753\n",
      "1 scale 4 {'norm': 5.7978269429844, 'scale': 0.825, 'smear': 261.6630223191189} 4.197208551627658\n",
      "1 scale 5 {'norm': 5.7978269429844, 'scale': 0.83, 'smear': 261.6630223191189} 2.6491865615345676\n",
      "1 scale 6 {'norm': 5.7978269429844, 'scale': 0.835, 'smear': 261.6630223191189} 4.20832475447773\n",
      "1 scale 7 {'norm': 5.7978269429844, 'scale': 0.84, 'smear': 261.6630223191189} 4.9975594732707584\n",
      "1 scale 8 {'norm': 5.7978269429844, 'scale': 0.845, 'smear': 261.6630223191189} 11.318051790679558\n",
      "1 scale 9 {'norm': 5.7978269429844, 'scale': 0.85, 'smear': 261.6630223191189} 15.201772970617242\n",
      "1 scale 10 {'norm': 5.7978269429844, 'scale': 0.855, 'smear': 261.6630223191189} 21.335091011781202\n",
      "1 smear 0 {'norm': 5.7978269429844, 'scale': 0.8376514347429376, 'smear': 215} 18.10379189412583\n",
      "1 smear 1 {'norm': 5.7978269429844, 'scale': 0.8376514347429376, 'smear': 220} 16.36785757225885\n",
      "1 smear 2 {'norm': 5.7978269429844, 'scale': 0.8376514347429376, 'smear': 225} 10.689720603182721\n",
      "1 smear 3 {'norm': 5.7978269429844, 'scale': 0.8376514347429376, 'smear': 230} 8.973390295460796\n",
      "1 smear 4 {'norm': 5.7978269429844, 'scale': 0.8376514347429376, 'smear': 235} 5.824655970344048\n",
      "1 smear 5 {'norm': 5.7978269429844, 'scale': 0.8376514347429376, 'smear': 240} 5.310381179260911\n",
      "1 smear 6 {'norm': 5.7978269429844, 'scale': 0.8376514347429376, 'smear': 245} 4.395568179044115\n",
      "1 smear 7 {'norm': 5.7978269429844, 'scale': 0.8376514347429376, 'smear': 250} 3.4870988920679746\n",
      "1 smear 8 {'norm': 5.7978269429844, 'scale': 0.8376514347429376, 'smear': 255} 4.307089600894536\n",
      "1 smear 9 {'norm': 5.7978269429844, 'scale': 0.8376514347429376, 'smear': 260} 4.996249187089979\n",
      "=====>  1 2.8995377366402835 -1.2930105375538847 {'norm': 5.691690785165685, 'scale': 0.8329185245603123, 'smear': 249.9573226770413}\n",
      "2 norm 0 {'norm': 5.35, 'scale': 0.8329185245603123, 'smear': 249.9573226770413} 11.97973300926735\n",
      "2 norm 1 {'norm': 5.449999999999999, 'scale': 0.8329185245603123, 'smear': 249.9573226770413} 7.79976291180288\n",
      "2 norm 2 {'norm': 5.549999999999999, 'scale': 0.8329185245603123, 'smear': 249.9573226770413} 5.738040407253493\n",
      "2 norm 3 {'norm': 5.649999999999999, 'scale': 0.8329185245603123, 'smear': 249.9573226770413} 3.9170966653775237\n",
      "2 norm 4 {'norm': 5.749999999999998, 'scale': 0.8329185245603123, 'smear': 249.9573226770413} 4.562461003181884\n",
      "2 norm 5 {'norm': 5.849999999999998, 'scale': 0.8329185245603123, 'smear': 249.9573226770413} 5.640617568348057\n",
      "2 norm 6 {'norm': 5.9499999999999975, 'scale': 0.8329185245603123, 'smear': 249.9573226770413} 4.954858937862452\n",
      "2 norm 7 {'norm': 6.049999999999997, 'scale': 0.8329185245603123, 'smear': 249.9573226770413} 8.423942564033407\n",
      "2 norm 8 {'norm': 6.149999999999997, 'scale': 0.8329185245603123, 'smear': 249.9573226770413} 11.990987215100116\n",
      "2 norm 9 {'norm': 6.2499999999999964, 'scale': 0.8329185245603123, 'smear': 249.9573226770413} 15.778023964841221\n",
      "2 scale 0 {'norm': 5.691690785165685, 'scale': 0.8049999999999999, 'smear': 249.9573226770413} 46.28533306394719\n",
      "2 scale 1 {'norm': 5.691690785165685, 'scale': 0.8099999999999999, 'smear': 249.9573226770413} 37.55429564879485\n",
      "2 scale 2 {'norm': 5.691690785165685, 'scale': 0.815, 'smear': 249.9573226770413} 24.33108598153781\n",
      "2 scale 3 {'norm': 5.691690785165685, 'scale': 0.82, 'smear': 249.9573226770413} 12.940901249429302\n",
      "2 scale 4 {'norm': 5.691690785165685, 'scale': 0.825, 'smear': 249.9573226770413} 8.59947673503941\n",
      "2 scale 5 {'norm': 5.691690785165685, 'scale': 0.83, 'smear': 249.9573226770413} 4.65612191232988\n",
      "2 scale 6 {'norm': 5.691690785165685, 'scale': 0.835, 'smear': 249.9573226770413} 3.9272036940719004\n",
      "2 scale 7 {'norm': 5.691690785165685, 'scale': 0.84, 'smear': 249.9573226770413} 3.96858355887421\n",
      "2 scale 8 {'norm': 5.691690785165685, 'scale': 0.845, 'smear': 249.9573226770413} 6.158515000813261\n",
      "2 scale 9 {'norm': 5.691690785165685, 'scale': 0.85, 'smear': 249.9573226770413} 11.498866605044853\n",
      "2 scale 10 {'norm': 5.691690785165685, 'scale': 0.855, 'smear': 249.9573226770413} 16.708492114285168\n",
      "2 smear 0 {'norm': 5.691690785165685, 'scale': 0.8329185245603123, 'smear': 215} 22.63935937132846\n",
      "2 smear 1 {'norm': 5.691690785165685, 'scale': 0.8329185245603123, 'smear': 220} 19.670080685358084\n",
      "2 smear 2 {'norm': 5.691690785165685, 'scale': 0.8329185245603123, 'smear': 225} 17.114639084574687\n",
      "2 smear 3 {'norm': 5.691690785165685, 'scale': 0.8329185245603123, 'smear': 230} 9.218644866430399\n",
      "2 smear 4 {'norm': 5.691690785165685, 'scale': 0.8329185245603123, 'smear': 235} 8.278995012666165\n",
      "2 smear 5 {'norm': 5.691690785165685, 'scale': 0.8329185245603123, 'smear': 240} 7.287588744635712\n",
      "2 smear 6 {'norm': 5.691690785165685, 'scale': 0.8329185245603123, 'smear': 245} 4.506329885207113\n",
      "2 smear 7 {'norm': 5.691690785165685, 'scale': 0.8329185245603123, 'smear': 250} 3.9172702498327094\n",
      "2 smear 8 {'norm': 5.691690785165685, 'scale': 0.8329185245603123, 'smear': 255} 2.9092640578207027\n",
      "2 smear 9 {'norm': 5.691690785165685, 'scale': 0.8329185245603123, 'smear': 260} 3.2664388599819603\n",
      "=====>  2 3.348784521550778 0.4492467849104944 {'norm': 5.747875038867423, 'scale': 0.8367725067501749, 'smear': 257.08989605025516}\n",
      "\n",
      "****************************************\n",
      "Minimizer is Linear / Migrad\n",
      "Chi2                      =       26.869\n",
      "NDf                       =            7\n",
      "p0                        =      1779.08   +/-   286.395     \n",
      "p1                        =     -610.773   +/-   98.9283     \n",
      "p2                        =      52.6726   +/-   8.52628     \n",
      "\n",
      "****************************************\n",
      "Minimizer is Linear / Migrad\n",
      "Chi2                      =      15.9457\n",
      "NDf                       =            8\n",
      "p0                        =      34066.1   +/-   1327.86     \n",
      "p1                        =     -81322.2   +/-   3200.49     \n",
      "p2                        =      48541.8   +/-   1927.94     \n",
      "\n",
      "****************************************\n",
      "Minimizer is Linear / Migrad\n",
      "Chi2                      =      15.6702\n",
      "NDf                       =            7\n",
      "p0                        =      693.837   +/-   146.585     \n",
      "p1                        =     -5.27452   +/-   1.2376      \n",
      "p2                        =    0.0100788   +/-   0.00260454  \n",
      "Real time 0:01:57, CP time 117.410\n",
      "\n",
      "****************************************\n",
      "Minimizer is Linear / Migrad\n",
      "Chi2                      =      5.09337\n",
      "NDf                       =            7\n",
      "p0                        =      1820.01   +/-   124.693     \n",
      "p1                        =     -638.207   +/-   43.0723     \n",
      "p2                        =      56.0648   +/-   3.71225     \n",
      "\n",
      "****************************************\n",
      "Minimizer is Linear / Migrad\n",
      "Chi2                      =      14.0055\n",
      "NDf                       =            8\n",
      "p0                        =      28674.4   +/-   1244.46     \n",
      "p1                        =       -68846   +/-   2999.47     \n",
      "p2                        =      41328.2   +/-   1806.85     \n",
      "\n",
      "****************************************\n",
      "Minimizer is Linear / Migrad\n",
      "Chi2                      =      4.37479\n",
      "NDf                       =            7\n",
      "p0                        =      771.782   +/-   77.4517     \n",
      "p1                        =     -6.14488   +/-   0.653913    \n",
      "p2                        =    0.0122919   +/-   0.00137617  \n",
      "Real time 0:01:57, CP time 117.000\n",
      "\n",
      "****************************************\n",
      "Minimizer is Linear / Migrad\n",
      "Chi2                      =      3.41459\n",
      "NDf                       =            7\n",
      "p0                        =      1562.58   +/-   102.096     \n",
      "p1                        =     -542.294   +/-   35.2667     \n",
      "p2                        =      47.1734   +/-   3.03951     \n",
      "\n",
      "****************************************\n",
      "Minimizer is Linear / Migrad\n",
      "Chi2                      =      19.2523\n",
      "NDf                       =            8\n",
      "p0                        =      30947.7   +/-   1459.06     \n",
      "p1                        =       -73962   +/-   3516.71     \n",
      "p2                        =      44194.8   +/-   2118.43     \n",
      "\n",
      "****************************************\n",
      "Minimizer is Linear / Migrad\n",
      "Chi2                      =       12.428\n",
      "NDf                       =            7\n",
      "p0                        =      765.377   +/-   130.543     \n",
      "p1                        =     -5.93023   +/-   1.10216     \n",
      "p2                        =    0.0115334   +/-   0.0023195   \n",
      "Real time 0:02:02, CP time 121.750\n"
     ]
    }
   ],
   "source": [
    "#scan\n",
    "tval={}\n",
    "min_values=[99999.]\n",
    "tolerance=1\n",
    "min_diff=99999.\n",
    "iter=0\n",
    "\n",
    "watch=R.TStopwatch()\n",
    "while (abs(min_diff)>tolerance):\n",
    "    watch.Start()\n",
    "    for ipar,(par,par_range) in enumerate(ranges.items()):\n",
    "        #reinit\n",
    "        minG[par].Clear()\n",
    "        for ini_par in ranges:\n",
    "            tval[ini_par]=init_values[ini_par]\n",
    "        for ival,a in enumerate(np.arange(par_range['ini']-5*par_range['step'],par_range['ini']+5*par_range['step'],par_range['step'])):\n",
    "            tval[par]=a\n",
    "            val=chi2_func(tval['norm'],tval['scale'],tval['smear'])\n",
    "            print(iter,par,ival,tval,val)\n",
    "            minG[par].SetPoint(ival,a,val)\n",
    "        minG[par].Fit('pol2')\n",
    "    for par in ranges:\n",
    "        init_values[par]=minG[par].GetFunction(\"pol2\").GetMinimumX()\n",
    "    min_values.append(chi2_func(init_values['norm'],init_values['scale'],init_values['smear']))\n",
    "    min_diff=min_values[-1]-min_values[-2]\n",
    "    watch.Stop()\n",
    "    print(\"=====> \",iter,min_values[-1],min_diff,init_values)\n",
    "    watch.Print()\n",
    "    iter+=1"
   ]
  },
  {
   "cell_type": "code",
   "execution_count": 16,
   "id": "0efb2baf-41ab-4d36-a34a-0ce3dbc92591",
   "metadata": {},
   "outputs": [],
   "source": [
    "for ipar,(par,par_range) in enumerate(ranges.items()):\n",
    "    #minG[par].Draw(\"A*\")\n",
    "    #minG[par].Fit(\"pol2\")\n",
    "    min_x=minG[par].GetFunction(\"pol2\").GetMinimumX()\n",
    "    min_val=minG[par].GetFunction(\"pol2\").GetMinimum()\n",
    "    delta_plus=minG[par].GetFunction(\"pol2\").GetX(min_val+1,min_x,min_x+5*ranges[par]['step'])-min_val\n",
    "    delta_minus=min_val-minG[par].GetFunction(\"pol2\").GetX(min_val+1,min_x-5*ranges[par]['step'],min_x)\n",
    "    delta=(delta_plus+delta_minus)*0.5\n",
    "    ranges[par]['min']=min_x\n",
    "    ranges[par]['err']=delta"
   ]
  },
  {
   "cell_type": "code",
   "execution_count": 17,
   "id": "fb68941a-080c-45f9-9868-704d51de31cd",
   "metadata": {},
   "outputs": [],
   "source": [
    "h_fit_min=smeared_scaled(fft_digi_ori,h_2,ranges['norm']['min'],ranges['scale']['min'],ranges['smear']['min'])"
   ]
  },
  {
   "cell_type": "code",
   "execution_count": 18,
   "id": "f38f2d21-8188-405c-8290-4831c959c1db",
   "metadata": {},
   "outputs": [
    {
     "name": "stderr",
     "output_type": "stream",
     "text": [
      "Info in <TCanvas::Print>: png file results/fit_479_HPK_CH08_OV1.0_Tm40_run166.png has been created\n",
      "Info in <TCanvas::Print>: pdf file results/fit_479_HPK_CH08_OV1.0_Tm40_run166.pdf has been created\n"
     ]
    },
    {
     "data": {
      "image/png": "[encoded data removed]",
      "text/plain": [
       "<IPython.core.display.Image object>"
      ]
     },
     "metadata": {},
     "output_type": "display_data"
    }
   ],
   "source": [
    "#Draw fit result\n",
    "R.gStyle.SetOptTitle(0)\n",
    "\n",
    "l=R.TLegend(0.1,0.7,0.4,0.86)\n",
    "l.SetFillColorAlpha(0,0)\n",
    "l.SetBorderSize(0)\n",
    "l.SetTextSize(0.03)\n",
    "\n",
    "h_2.Draw('PE')\n",
    "l.AddEntry(h_2,'Target','P')\n",
    "\n",
    "h_fit_min.Draw('PSAME')\n",
    "h_fit_min.SetMarkerColor(R.kRed)\n",
    "h_fit_min.SetMarkerStyle(24)\n",
    "h_fit_min.SetMarkerSize(1.2)\n",
    "#h_fit_min.SetLineColor(R.kRed)\n",
    "l.AddEntry(h_fit_min,'Fit (Scaled + DCR Noise)','P')\n",
    "\n",
    "\n",
    "#h_2.SetMaximum(4000)\n",
    "h_2.GetXaxis().SetRangeUser(0.3*ps.GetPositionX()[n_peaks-1],2.2*ps.GetPositionX()[n_peaks-1])\n",
    "#h_2.GetXaxis().SetTitle('ADC')\n",
    "h_ori_c=h_ori.Clone('h_ori_c')\n",
    "h_ori_c.Scale(h_2.GetEntries()/h_ori.GetEntries())\n",
    "h_ori_c.Draw('SAME')\n",
    "l.AddEntry(h_ori,'Original','PL')\n",
    "\n",
    "t=R.TLatex()\n",
    "t.SetTextSize(0.035)\n",
    "\n",
    "results=R.TGraphErrors()\n",
    "for ipar,(par,r) in enumerate(ranges.items()):\n",
    "    t.DrawLatexNDC(0.6,0.825-ipar*0.04,\"%s = %.3f #pm %.3f\"%(par,r['min'],r['err']))\n",
    "    results.SetPoint(ipar,ipar,r['min'])\n",
    "    results.SetPointError(ipar,0,r['err'])\n",
    "l.Draw()\n",
    "c1.Draw()\n",
    "for ext in ['.png','.pdf']:\n",
    "    c1.SaveAs('results/fit_%s%s'%(run_target,ext))\n",
    "\n",
    "fResults=R.TFile('results/fit_%s.root'%run_target,'RECREATE')\n",
    "h_2.Write()\n",
    "h_ori.Write()\n",
    "h_fit_min.Write()\n",
    "results.Write('fitResults')\n",
    "fResults.Close()"
   ]
  },
  {
   "cell_type": "code",
   "execution_count": null,
   "id": "139bb822-1746-4f98-ac37-69a417f95e09",
   "metadata": {},
   "outputs": [],
   "source": []
  }
 ],
 "metadata": {
  "kernelspec": {
   "display_name": "Python 3",
   "language": "python",
   "name": "python3"
  },
  "language_info": {
   "codemirror_mode": {
    "name": "ipython",
    "version": 3
   },
   "file_extension": ".py",
   "mimetype": "text/x-python",
   "name": "python",
   "nbconvert_exporter": "python",
   "pygments_lexer": "ipython3",
   "version": "3.9.4"
  }
 },
 "nbformat": 4,
 "nbformat_minor": 5
}
