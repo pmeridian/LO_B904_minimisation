{
 "cells": [
  {
   "cell_type": "code",
   "execution_count": 1,
   "id": "8ad9c585-9dab-4418-8e0c-6b601e85d22e",
   "metadata": {},
   "outputs": [
    {
     "name": "stdout",
     "output_type": "stream",
     "text": [
      "Welcome to JupyROOT 6.24/00\n"
     ]
    }
   ],
   "source": [
    "import ROOT as R"
   ]
  },
  {
   "cell_type": "code",
   "execution_count": 2,
   "id": "83475e39-0e90-4ed0-aaf9-9bfe7d556aa5",
   "metadata": {},
   "outputs": [
    {
     "name": "stderr",
     "output_type": "stream",
     "text": [
      "Warning in <TClass::Init>: no dictionary for class CfgManager is available\n"
     ]
    }
   ],
   "source": [
    "run_ori='410_HPK_CH09_OV0.8_Tm30_run159'\n",
    "f1=R.TFile('data/h4Reco_%s.root'%run_ori)"
   ]
  },
  {
   "cell_type": "code",
   "execution_count": 3,
   "id": "a7b8c152-5c42-4677-82b1-40b1ff4c4fa9",
   "metadata": {},
   "outputs": [],
   "source": [
    "fft_digi_ori=f1.Get(\"fft_digi\")\n",
    "h_ori=R.TH1F('h_ori','h_ori',200,0,10000)"
   ]
  },
  {
   "cell_type": "code",
   "execution_count": 4,
   "id": "1e8bdb0f-0677-4f77-96d4-c690490b872d",
   "metadata": {},
   "outputs": [],
   "source": [
    "for e in fft_digi_ori:\n",
    "    h_ori.Fill(e.charge_sig[0])"
   ]
  },
  {
   "cell_type": "code",
   "execution_count": 5,
   "id": "55f76946-4df1-4dd8-9180-76940dc68cbd",
   "metadata": {},
   "outputs": [
    {
     "name": "stdout",
     "output_type": "stream",
     "text": [
      "1 1675.0\n"
     ]
    }
   ],
   "source": [
    "ps_ori=R.TSpectrum(6)\n",
    "n_peaks_ori=ps_ori.Search(h_ori,3,\"goff\",0.8)\n",
    "if(n_peaks_ori>0):\n",
    "    print(n_peaks_ori,ps_ori.GetPositionX()[n_peaks_ori-1])"
   ]
  },
  {
   "cell_type": "code",
   "execution_count": 6,
   "id": "a48b457f-60d0-46a0-b9c4-95f75b4a1acf",
   "metadata": {},
   "outputs": [],
   "source": [
    "c1=R.TCanvas('c1','c1',800,600)"
   ]
  },
  {
   "cell_type": "code",
   "execution_count": 7,
   "id": "ea9cdbb1-ba15-46e1-91e9-688fa2f816c5",
   "metadata": {},
   "outputs": [],
   "source": [
    "rgen=R.TRandom3(100)\n",
    "\n",
    "def smeared_scaled(tree,hFit,norm,scale,smear):\n",
    "    hOut=hFit.Clone('hOut')\n",
    "    hOut.Reset()\n",
    "    for j in range(5):\n",
    "        for e in tree:\n",
    "            hOut.Fill(e.charge_sig[0]*scale+rgen.Gaus(0,smear),norm)\n",
    "#    hOut.Sumw2()\n",
    "    hOut.Scale(1/5.)\n",
    "    hOut.Smooth()\n",
    "    return hOut\n",
    "\n",
    "def chi2_func(norm,scale,smear):\n",
    "    chi2=0\n",
    "    hOut=smeared_scaled(fft_digi_ori,h_2,norm,scale,smear)\n",
    "    for i in range(min_bin,max_bin):\n",
    "        chi2+=(h_2.GetBinContent(i)-hOut.GetBinContent(i))**2/(h_2.GetBinError(i)**2+(hOut.GetBinError(i)*5)**2)\n",
    "    return chi2"
   ]
  },
  {
   "cell_type": "code",
   "execution_count": 8,
   "id": "510bfbfa-fe7a-4abe-85f2-e08bc624f81a",
   "metadata": {},
   "outputs": [],
   "source": [
    "run_target='479_HPK_CH08_OV0.8_Tm40_run165'\n",
    "f2=R.TFile('data/h4Reco_%s.root'%run_target)\n",
    "\n",
    "fft_digi_2=f2.Get(\"fft_digi\")\n",
    "fft_digi_2.SetBranchStatus(\"*\",0)\n",
    "fft_digi_2.SetBranchStatus(\"charge_sig\",1)\n",
    "\n",
    "h_2=R.TH1F('h_2','h_2',200,0,10000)"
   ]
  },
  {
   "cell_type": "code",
   "execution_count": 9,
   "id": "a4b3723b-fb2f-4dc0-a0d4-4c318acf6fc8",
   "metadata": {},
   "outputs": [],
   "source": [
    "for e in fft_digi_2:\n",
    "    h_2.Fill(e.charge_sig[0])"
   ]
  },
  {
   "cell_type": "code",
   "execution_count": 10,
   "id": "814b8226-f43e-49cb-9ac8-fa143c44015b",
   "metadata": {},
   "outputs": [
    {
     "name": "stdout",
     "output_type": "stream",
     "text": [
      "1 1325.0\n"
     ]
    }
   ],
   "source": [
    "ps=R.TSpectrum(6)\n",
    "n_peaks=ps.Search(h_2,3,\"goff\",0.8)\n",
    "if(n_peaks>0):\n",
    "    print(n_peaks,ps.GetPositionX()[n_peaks-1])"
   ]
  },
  {
   "cell_type": "code",
   "execution_count": 11,
   "id": "763259f5-4dff-492a-b8df-b217772b5be4",
   "metadata": {},
   "outputs": [],
   "source": [
    "#R.gROOT.ProcessLine('.L ./my_minizer.C+')"
   ]
  },
  {
   "cell_type": "code",
   "execution_count": 12,
   "id": "d39eb377-42bb-4ef9-8fa5-f89f4744f880",
   "metadata": {},
   "outputs": [],
   "source": [
    "#R.NumericalMinimization(fft_digi_ori,h_2,1300,3000)"
   ]
  },
  {
   "cell_type": "code",
   "execution_count": 13,
   "id": "81afd59f-8fff-4d90-8520-c9ba548c1cfb",
   "metadata": {},
   "outputs": [
    {
     "name": "stdout",
     "output_type": "stream",
     "text": [
      "{'norm': 6.0, 'scale': 0.84, 'smear': 175}\n"
     ]
    }
   ],
   "source": [
    "import numpy as np\n",
    "\n",
    "ranges={\n",
    "    'norm':{'ini':6.0,'step':0.1},\n",
    "    'scale':{'ini':0.84,'step':0.005},\n",
    "    'smear':{'ini':175,'step':5}\n",
    "}\n",
    "minG={}\n",
    "#should be made parametric\n",
    "minX=.7*ps.GetPositionX()[n_peaks-1]\n",
    "maxX=1.7*ps.GetPositionX()[n_peaks-1]\n",
    "min_bin=h_2.FindBin(minX)\n",
    "max_bin=h_2.FindBin(maxX)\n",
    "init_values={}\n",
    "\n",
    "#init\n",
    "for ipar,(par,par_range) in enumerate(ranges.items()):\n",
    "    minG[par]=R.TGraph()\n",
    "    init_values[par]=par_range['ini']\n",
    "print(init_values)"
   ]
  },
  {
   "cell_type": "code",
   "execution_count": 14,
   "id": "7dcc9d86-dfc7-460a-b02e-3335d66f17ab",
   "metadata": {},
   "outputs": [
    {
     "data": {
      "image/png": "[encoded data removed]",
      "text/plain": [
       "<IPython.core.display.Image object>"
      ]
     },
     "metadata": {},
     "output_type": "display_data"
    }
   ],
   "source": [
    "h_fit=smeared_scaled(fft_digi_ori,h_2,ranges['norm']['ini'],ranges['scale']['ini'],ranges['smear']['ini'])\n",
    "R.gStyle.SetOptStat(0)\n",
    "h_2.SetStats(0)\n",
    "h_2.Draw('PE')\n",
    "h_2.SetMarkerStyle(20)\n",
    "h_2.SetMarkerSize(1.2)\n",
    "h_2.SetMarkerColor(R.kBlack)\n",
    "h_2.SetLineColor(R.kBlack)\n",
    "h_fit.Draw('PSAME')\n",
    "h_fit.SetMarkerColor(R.kRed)\n",
    "h_fit.SetLineColor(R.kRed)\n",
    "#h_ori.Draw('SAME')\n",
    "h_2.SetMaximum(h_2.GetMaximum()*1.6)\n",
    "h_2.GetXaxis().SetRangeUser(minX,maxX)\n",
    "h_2.GetXaxis().SetTitle('ADC')\n",
    "c1.Draw()"
   ]
  },
  {
   "cell_type": "code",
   "execution_count": null,
   "id": "acf3b15f-4a23-4b40-8e4f-f574fa6c34cc",
   "metadata": {},
   "outputs": [
    {
     "name": "stdout",
     "output_type": "stream",
     "text": [
      "0 norm 0 {'norm': 5.5, 'scale': 0.84, 'smear': 175} 48.59972329544731\n",
      "0 norm 1 {'norm': 5.6, 'scale': 0.84, 'smear': 175} 38.59740824657307\n",
      "0 norm 2 {'norm': 5.699999999999999, 'scale': 0.84, 'smear': 175} 28.20663541542983\n",
      "0 norm 3 {'norm': 5.799999999999999, 'scale': 0.84, 'smear': 175} 25.620348515804267\n",
      "0 norm 4 {'norm': 5.899999999999999, 'scale': 0.84, 'smear': 175} 25.080199853344876\n",
      "0 norm 5 {'norm': 5.999999999999998, 'scale': 0.84, 'smear': 175} 16.957119400342176\n",
      "0 norm 6 {'norm': 6.099999999999998, 'scale': 0.84, 'smear': 175} 19.054318066040555\n",
      "0 norm 7 {'norm': 6.1999999999999975, 'scale': 0.84, 'smear': 175} 19.418495167182076\n",
      "0 norm 8 {'norm': 6.299999999999997, 'scale': 0.84, 'smear': 175} 22.828317009142022\n",
      "0 norm 9 {'norm': 6.399999999999997, 'scale': 0.84, 'smear': 175} 25.293426639552226\n",
      "0 scale 0 {'norm': 6.0, 'scale': 0.815, 'smear': 175} 88.6703646317949\n",
      "0 scale 1 {'norm': 6.0, 'scale': 0.82, 'smear': 175} 60.70990165819554\n",
      "0 scale 2 {'norm': 6.0, 'scale': 0.825, 'smear': 175} 44.63103821128643\n",
      "0 scale 3 {'norm': 6.0, 'scale': 0.83, 'smear': 175} 33.524404636850335\n",
      "0 scale 4 {'norm': 6.0, 'scale': 0.835, 'smear': 175} 25.98865846786633\n",
      "0 scale 5 {'norm': 6.0, 'scale': 0.84, 'smear': 175} 17.018327190601447\n",
      "0 scale 6 {'norm': 6.0, 'scale': 0.845, 'smear': 175} 17.54794204692549\n",
      "0 scale 7 {'norm': 6.0, 'scale': 0.85, 'smear': 175} 14.36483209578166\n",
      "0 scale 8 {'norm': 6.0, 'scale': 0.855, 'smear': 175} 18.93328611842664\n",
      "0 scale 9 {'norm': 6.0, 'scale': 0.86, 'smear': 175} 24.41512781687052\n",
      "0 scale 10 {'norm': 6.0, 'scale': 0.865, 'smear': 175} 31.82517399553654\n",
      "0 smear 0 {'norm': 6.0, 'scale': 0.84, 'smear': 150} 52.928393493508\n",
      "0 smear 1 {'norm': 6.0, 'scale': 0.84, 'smear': 155} 37.84759118681101\n",
      "0 smear 2 {'norm': 6.0, 'scale': 0.84, 'smear': 160} 32.95416971805214\n",
      "0 smear 3 {'norm': 6.0, 'scale': 0.84, 'smear': 165} 30.432403214359717\n",
      "0 smear 4 {'norm': 6.0, 'scale': 0.84, 'smear': 170} 22.902381301745663\n",
      "0 smear 5 {'norm': 6.0, 'scale': 0.84, 'smear': 175} 17.192344524486714\n",
      "0 smear 6 {'norm': 6.0, 'scale': 0.84, 'smear': 180} 15.238322334727634\n",
      "0 smear 7 {'norm': 6.0, 'scale': 0.84, 'smear': 185} 14.14236422844769\n",
      "0 smear 8 {'norm': 6.0, 'scale': 0.84, 'smear': 190} 15.764819294771227\n",
      "0 smear 9 {'norm': 6.0, 'scale': 0.84, 'smear': 195} 16.444070589606536\n",
      "=====>  0 16.553409752594195 -99982.4465902474 {'norm': 6.094872664058789, 'scale': 0.8476771925186765, 'smear': 186.5421891088048}\n",
      "1 norm 0 {'norm': 5.5, 'scale': 0.8476771925186765, 'smear': 186.5421891088048} 42.415281542484614\n",
      "1 norm 1 {'norm': 5.6, 'scale': 0.8476771925186765, 'smear': 186.5421891088048} 30.86745390905149\n",
      "1 norm 2 {'norm': 5.699999999999999, 'scale': 0.8476771925186765, 'smear': 186.5421891088048} 24.67743776937165\n",
      "1 norm 3 {'norm': 5.799999999999999, 'scale': 0.8476771925186765, 'smear': 186.5421891088048} 21.293708662288207\n",
      "1 norm 4 {'norm': 5.899999999999999, 'scale': 0.8476771925186765, 'smear': 186.5421891088048} 17.785103470713594\n",
      "1 norm 5 {'norm': 5.999999999999998, 'scale': 0.8476771925186765, 'smear': 186.5421891088048} 15.895053525115923\n",
      "1 norm 6 {'norm': 6.099999999999998, 'scale': 0.8476771925186765, 'smear': 186.5421891088048} 16.478662654582642\n",
      "1 norm 7 {'norm': 6.1999999999999975, 'scale': 0.8476771925186765, 'smear': 186.5421891088048} 17.362605801024408\n",
      "1 norm 8 {'norm': 6.299999999999997, 'scale': 0.8476771925186765, 'smear': 186.5421891088048} 16.9050326658312\n",
      "1 norm 9 {'norm': 6.399999999999997, 'scale': 0.8476771925186765, 'smear': 186.5421891088048} 25.3463738798015\n",
      "1 scale 0 {'norm': 6.094872664058789, 'scale': 0.815, 'smear': 186.5421891088048} 56.478216416469216\n",
      "1 scale 1 {'norm': 6.094872664058789, 'scale': 0.82, 'smear': 186.5421891088048} 47.832699259919025\n",
      "1 scale 2 {'norm': 6.094872664058789, 'scale': 0.825, 'smear': 186.5421891088048} 31.066294885648205\n",
      "1 scale 3 {'norm': 6.094872664058789, 'scale': 0.83, 'smear': 186.5421891088048} 22.684690615779\n",
      "1 scale 4 {'norm': 6.094872664058789, 'scale': 0.835, 'smear': 186.5421891088048} 16.241640684353435\n",
      "1 scale 5 {'norm': 6.094872664058789, 'scale': 0.84, 'smear': 186.5421891088048} 14.873093971379914\n",
      "1 scale 6 {'norm': 6.094872664058789, 'scale': 0.845, 'smear': 186.5421891088048} 14.141768103581246\n",
      "1 scale 7 {'norm': 6.094872664058789, 'scale': 0.85, 'smear': 186.5421891088048} 18.42898515961151\n",
      "1 scale 8 {'norm': 6.094872664058789, 'scale': 0.855, 'smear': 186.5421891088048} 26.336695113402172\n",
      "1 scale 9 {'norm': 6.094872664058789, 'scale': 0.86, 'smear': 186.5421891088048} 30.16817578104672\n",
      "1 scale 10 {'norm': 6.094872664058789, 'scale': 0.865, 'smear': 186.5421891088048} 37.101332556872926\n",
      "1 smear 0 {'norm': 6.094872664058789, 'scale': 0.8476771925186765, 'smear': 150} 41.18291782806437\n",
      "1 smear 1 {'norm': 6.094872664058789, 'scale': 0.8476771925186765, 'smear': 155} 31.702944827229544\n",
      "1 smear 2 {'norm': 6.094872664058789, 'scale': 0.8476771925186765, 'smear': 160} 26.64359052297261\n",
      "1 smear 3 {'norm': 6.094872664058789, 'scale': 0.8476771925186765, 'smear': 165} 26.01582969163953\n",
      "1 smear 4 {'norm': 6.094872664058789, 'scale': 0.8476771925186765, 'smear': 170} 23.42272519769051\n",
      "1 smear 5 {'norm': 6.094872664058789, 'scale': 0.8476771925186765, 'smear': 175} 15.369226768050513\n",
      "1 smear 6 {'norm': 6.094872664058789, 'scale': 0.8476771925186765, 'smear': 180} 16.401370295326814\n",
      "1 smear 7 {'norm': 6.094872664058789, 'scale': 0.8476771925186765, 'smear': 185} 17.878459122483644\n",
      "1 smear 8 {'norm': 6.094872664058789, 'scale': 0.8476771925186765, 'smear': 190} 17.998780889009275\n",
      "1 smear 9 {'norm': 6.094872664058789, 'scale': 0.8476771925186765, 'smear': 195} 19.5970451656367\n",
      "=====>  1 13.718671015653337 -2.8347387369408583 {'norm': 6.064797463931085, 'scale': 0.8432744729374297, 'smear': 183.3187193931538}\n",
      "2 norm 0 {'norm': 5.5, 'scale': 0.8432744729374297, 'smear': 183.3187193931538} 39.60716796422524\n",
      "2 norm 1 {'norm': 5.6, 'scale': 0.8432744729374297, 'smear': 183.3187193931538} 31.58314369052485\n",
      "2 norm 2 {'norm': 5.699999999999999, 'scale': 0.8432744729374297, 'smear': 183.3187193931538} 23.531549933555166\n",
      "2 norm 3 {'norm': 5.799999999999999, 'scale': 0.8432744729374297, 'smear': 183.3187193931538} 18.89451358915303\n",
      "2 norm 4 {'norm': 5.899999999999999, 'scale': 0.8432744729374297, 'smear': 183.3187193931538} 16.095321513662185\n",
      "2 norm 5 {'norm': 5.999999999999998, 'scale': 0.8432744729374297, 'smear': 183.3187193931538} 14.454445061278703\n",
      "2 norm 6 {'norm': 6.099999999999998, 'scale': 0.8432744729374297, 'smear': 183.3187193931538} 15.583017183762578\n",
      "2 norm 7 {'norm': 6.1999999999999975, 'scale': 0.8432744729374297, 'smear': 183.3187193931538} 14.912636006733958\n",
      "2 norm 8 {'norm': 6.299999999999997, 'scale': 0.8432744729374297, 'smear': 183.3187193931538} 18.59010473756306\n",
      "2 norm 9 {'norm': 6.399999999999997, 'scale': 0.8432744729374297, 'smear': 183.3187193931538} 19.855277797323996\n",
      "2 scale 0 {'norm': 6.064797463931085, 'scale': 0.815, 'smear': 183.3187193931538} 63.72581912885639\n",
      "2 scale 1 {'norm': 6.064797463931085, 'scale': 0.82, 'smear': 183.3187193931538} 48.72039814669837\n",
      "2 scale 2 {'norm': 6.064797463931085, 'scale': 0.825, 'smear': 183.3187193931538} 30.518204153070933\n",
      "2 scale 3 {'norm': 6.064797463931085, 'scale': 0.83, 'smear': 183.3187193931538} 20.92097873903896\n",
      "2 scale 4 {'norm': 6.064797463931085, 'scale': 0.835, 'smear': 183.3187193931538} 17.862817366353394\n",
      "2 scale 5 {'norm': 6.064797463931085, 'scale': 0.84, 'smear': 183.3187193931538} 16.460714473100815\n",
      "2 scale 6 {'norm': 6.064797463931085, 'scale': 0.845, 'smear': 183.3187193931538} 13.050311109506055\n",
      "2 scale 7 {'norm': 6.064797463931085, 'scale': 0.85, 'smear': 183.3187193931538} 17.11022422043181\n",
      "2 scale 8 {'norm': 6.064797463931085, 'scale': 0.855, 'smear': 183.3187193931538} 21.985897443013872\n",
      "2 scale 9 {'norm': 6.064797463931085, 'scale': 0.86, 'smear': 183.3187193931538} 28.16851261745166\n",
      "2 scale 10 {'norm': 6.064797463931085, 'scale': 0.865, 'smear': 183.3187193931538} 36.12519555565563\n",
      "2 smear 0 {'norm': 6.064797463931085, 'scale': 0.8432744729374297, 'smear': 150} 50.65868645666888\n",
      "2 smear 1 {'norm': 6.064797463931085, 'scale': 0.8432744729374297, 'smear': 155} 33.36061601523724\n",
      "2 smear 2 {'norm': 6.064797463931085, 'scale': 0.8432744729374297, 'smear': 160} 37.50013069528088\n",
      "2 smear 3 {'norm': 6.064797463931085, 'scale': 0.8432744729374297, 'smear': 165} 21.90125150076275\n",
      "2 smear 4 {'norm': 6.064797463931085, 'scale': 0.8432744729374297, 'smear': 170} 20.02140994789345\n",
      "2 smear 5 {'norm': 6.064797463931085, 'scale': 0.8432744729374297, 'smear': 175} 17.66638649676052\n",
      "2 smear 6 {'norm': 6.064797463931085, 'scale': 0.8432744729374297, 'smear': 180} 13.998575098605887\n",
      "2 smear 7 {'norm': 6.064797463931085, 'scale': 0.8432744729374297, 'smear': 185} 12.901603086546405\n",
      "2 smear 8 {'norm': 6.064797463931085, 'scale': 0.8432744729374297, 'smear': 190} 15.5244035143548\n",
      "2 smear 9 {'norm': 6.064797463931085, 'scale': 0.8432744729374297, 'smear': 195} 16.734432807387225\n",
      "=====>  2 15.733199107329554 2.014528091676217 {'norm': 6.084015435516441, 'scale': 0.8440755780244471, 'smear': 184.48754933466603}\n",
      "3 norm 0 {'norm': 5.5, 'scale': 0.8440755780244471, 'smear': 184.48754933466603} 37.929874535348\n",
      "3 norm 1 {'norm': 5.6, 'scale': 0.8440755780244471, 'smear': 184.48754933466603} 32.25679175904515\n",
      "3 norm 2 {'norm': 5.699999999999999, 'scale': 0.8440755780244471, 'smear': 184.48754933466603} 23.97837527939059\n",
      "3 norm 3 {'norm': 5.799999999999999, 'scale': 0.8440755780244471, 'smear': 184.48754933466603} 21.646462856516678\n",
      "3 norm 4 {'norm': 5.899999999999999, 'scale': 0.8440755780244471, 'smear': 184.48754933466603} 17.134975849613866\n",
      "3 norm 5 {'norm': 5.999999999999998, 'scale': 0.8440755780244471, 'smear': 184.48754933466603} 17.554113101568383\n",
      "3 norm 6 {'norm': 6.099999999999998, 'scale': 0.8440755780244471, 'smear': 184.48754933466603} 15.36850384495366\n",
      "3 norm 7 {'norm': 6.1999999999999975, 'scale': 0.8440755780244471, 'smear': 184.48754933466603} 18.431267277881016\n",
      "3 norm 8 {'norm': 6.299999999999997, 'scale': 0.8440755780244471, 'smear': 184.48754933466603} 18.00322343583651\n",
      "3 norm 9 {'norm': 6.399999999999997, 'scale': 0.8440755780244471, 'smear': 184.48754933466603} 18.985769011771346\n",
      "3 scale 0 {'norm': 6.084015435516441, 'scale': 0.815, 'smear': 184.48754933466603} 58.54466993459841\n",
      "3 scale 1 {'norm': 6.084015435516441, 'scale': 0.82, 'smear': 184.48754933466603} 42.277591691164496\n",
      "3 scale 2 {'norm': 6.084015435516441, 'scale': 0.825, 'smear': 184.48754933466603} 33.812545705\n",
      "3 scale 3 {'norm': 6.084015435516441, 'scale': 0.83, 'smear': 184.48754933466603} 23.700233293349346\n",
      "3 scale 4 {'norm': 6.084015435516441, 'scale': 0.835, 'smear': 184.48754933466603} 13.091286685609141\n",
      "3 scale 5 {'norm': 6.084015435516441, 'scale': 0.84, 'smear': 184.48754933466603} 13.648585968191073\n",
      "3 scale 6 {'norm': 6.084015435516441, 'scale': 0.845, 'smear': 184.48754933466603} 14.763326858528066\n",
      "3 scale 7 {'norm': 6.084015435516441, 'scale': 0.85, 'smear': 184.48754933466603} 20.2124067268718\n",
      "3 scale 8 {'norm': 6.084015435516441, 'scale': 0.855, 'smear': 184.48754933466603} 21.53244097999052\n"
     ]
    }
   ],
   "source": [
    "#scan\n",
    "tval={}\n",
    "min_values=[99999.]\n",
    "tolerance=1\n",
    "min_diff=99999.\n",
    "iter=0\n",
    "\n",
    "watch=R.TStopwatch()\n",
    "while (abs(min_diff)>tolerance):\n",
    "    watch.Start()\n",
    "    for ipar,(par,par_range) in enumerate(ranges.items()):\n",
    "        #reinit\n",
    "        minG[par].Clear()\n",
    "        for ini_par in ranges:\n",
    "            tval[ini_par]=init_values[ini_par]\n",
    "        for ival,a in enumerate(np.arange(par_range['ini']-5*par_range['step'],par_range['ini']+5*par_range['step'],par_range['step'])):\n",
    "            tval[par]=a\n",
    "            val=chi2_func(tval['norm'],tval['scale'],tval['smear'])\n",
    "            print(iter,par,ival,tval,val)\n",
    "            minG[par].SetPoint(ival,a,val)\n",
    "        minG[par].Fit('pol2')\n",
    "    for par in ranges:\n",
    "        init_values[par]=minG[par].GetFunction(\"pol2\").GetMinimumX()\n",
    "    min_values.append(chi2_func(init_values['norm'],init_values['scale'],init_values['smear']))\n",
    "    min_diff=min_values[-1]-min_values[-2]\n",
    "    watch.Stop()\n",
    "    print(\"=====> \",iter,min_values[-1],min_diff,init_values)\n",
    "    watch.Print()\n",
    "    iter+=1"
   ]
  },
  {
   "cell_type": "code",
   "execution_count": null,
   "id": "0efb2baf-41ab-4d36-a34a-0ce3dbc92591",
   "metadata": {},
   "outputs": [],
   "source": [
    "for ipar,(par,par_range) in enumerate(ranges.items()):\n",
    "    #minG[par].Draw(\"A*\")\n",
    "    #minG[par].Fit(\"pol2\")\n",
    "    min_x=minG[par].GetFunction(\"pol2\").GetMinimumX()\n",
    "    min_val=minG[par].GetFunction(\"pol2\").GetMinimum()\n",
    "    delta_plus=minG[par].GetFunction(\"pol2\").GetX(min_val+1,min_x,min_x+5*ranges[par]['step'])-min_val\n",
    "    delta_minus=min_val-minG[par].GetFunction(\"pol2\").GetX(min_val+1,min_x-5*ranges[par]['step'],min_x)\n",
    "    delta=(delta_plus+delta_minus)*0.5\n",
    "    ranges[par]['min']=min_x\n",
    "    ranges[par]['err']=delta"
   ]
  },
  {
   "cell_type": "code",
   "execution_count": null,
   "id": "fb68941a-080c-45f9-9868-704d51de31cd",
   "metadata": {},
   "outputs": [],
   "source": [
    "h_fit_min=smeared_scaled(fft_digi_ori,h_2,ranges['norm']['min'],ranges['scale']['min'],ranges['smear']['min'])"
   ]
  },
  {
   "cell_type": "code",
   "execution_count": null,
   "id": "f38f2d21-8188-405c-8290-4831c959c1db",
   "metadata": {},
   "outputs": [],
   "source": [
    "#Draw fit result\n",
    "R.gStyle.SetOptTitle(0)\n",
    "\n",
    "l=R.TLegend(0.1,0.7,0.4,0.86)\n",
    "l.SetFillColorAlpha(0,0)\n",
    "l.SetBorderSize(0)\n",
    "l.SetTextSize(0.03)\n",
    "\n",
    "h_2.Draw('PE')\n",
    "l.AddEntry(h_2,'Target','P')\n",
    "\n",
    "h_fit_min.Draw('PSAME')\n",
    "h_fit_min.SetMarkerColor(R.kRed)\n",
    "h_fit_min.SetMarkerStyle(24)\n",
    "h_fit_min.SetMarkerSize(1.2)\n",
    "#h_fit_min.SetLineColor(R.kRed)\n",
    "l.AddEntry(h_fit_min,'Fit (Scaled + DCR Noise)','P')\n",
    "\n",
    "\n",
    "#h_2.SetMaximum(4000)\n",
    "h_2.GetXaxis().SetRangeUser(0.3*ps.GetPositionX()[n_peaks-1],2.2*ps.GetPositionX()[n_peaks-1])\n",
    "#h_2.GetXaxis().SetTitle('ADC')\n",
    "h_ori_c=h_ori.Clone('h_ori_c')\n",
    "h_ori_c.Scale(h_2.GetEntries()/h_ori.GetEntries())\n",
    "h_ori_c.Draw('SAME')\n",
    "l.AddEntry(h_ori,'Original','PL')\n",
    "\n",
    "t=R.TLatex()\n",
    "t.SetTextSize(0.035)\n",
    "\n",
    "results=R.TGraphErrors()\n",
    "for ipar,(par,r) in enumerate(ranges.items()):\n",
    "    t.DrawLatexNDC(0.6,0.825-ipar*0.04,\"%s = %.3f #pm %.3f\"%(par,r['min'],r['err']))\n",
    "    results.SetPoint(ipar,ipar,r['min'])\n",
    "    results.SetPointError(ipar,0,r['err'])\n",
    "l.Draw()\n",
    "c1.Draw()\n",
    "for ext in ['.png','.pdf']:\n",
    "    c1.SaveAs('results/fit_%s%s'%(run_target,ext))\n",
    "\n",
    "fResults=R.TFile('results/fit_%s.root'%run_target,'RECREATE')\n",
    "h_2.Write()\n",
    "h_ori.Write()\n",
    "h_fit_min.Write()\n",
    "results.Write('fitResults')\n",
    "fResults.Close()"
   ]
  },
  {
   "cell_type": "code",
   "execution_count": null,
   "id": "139bb822-1746-4f98-ac37-69a417f95e09",
   "metadata": {},
   "outputs": [],
   "source": []
  }
 ],
 "metadata": {
  "kernelspec": {
   "display_name": "Python 3",
   "language": "python",
   "name": "python3"
  },
  "language_info": {
   "codemirror_mode": {
    "name": "ipython",
    "version": 3
   },
   "file_extension": ".py",
   "mimetype": "text/x-python",
   "name": "python",
   "nbconvert_exporter": "python",
   "pygments_lexer": "ipython3",
   "version": "3.9.4"
  }
 },
 "nbformat": 4,
 "nbformat_minor": 5
}
