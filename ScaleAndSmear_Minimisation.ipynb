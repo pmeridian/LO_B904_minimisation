{
 "cells": [
  {
   "cell_type": "code",
   "execution_count": 1,
   "id": "8ad9c585-9dab-4418-8e0c-6b601e85d22e",
   "metadata": {},
   "outputs": [
    {
     "name": "stdout",
     "output_type": "stream",
     "text": [
      "Welcome to JupyROOT 6.24/00\n"
     ]
    }
   ],
   "source": [
    "import ROOT as R"
   ]
  },
  {
   "cell_type": "code",
   "execution_count": 2,
   "id": "83475e39-0e90-4ed0-aaf9-9bfe7d556aa5",
   "metadata": {},
   "outputs": [
    {
     "name": "stderr",
     "output_type": "stream",
     "text": [
      "Warning in <TClass::Init>: no dictionary for class CfgManager is available\n"
     ]
    }
   ],
   "source": [
    "run_ori='410_HPK_CH09_OV0.8_Tm30_run159'\n",
    "f1=R.TFile('data/h4Reco_%s.root'%run_ori)"
   ]
  },
  {
   "cell_type": "code",
   "execution_count": 3,
   "id": "a7b8c152-5c42-4677-82b1-40b1ff4c4fa9",
   "metadata": {},
   "outputs": [],
   "source": [
    "fft_digi_ori=f1.Get(\"fft_digi\")\n",
    "h_ori=R.TH1F('h_ori','h_ori',200,0,10000)"
   ]
  },
  {
   "cell_type": "code",
   "execution_count": 4,
   "id": "1e8bdb0f-0677-4f77-96d4-c690490b872d",
   "metadata": {},
   "outputs": [],
   "source": [
    "for e in fft_digi_ori:\n",
    "    h_ori.Fill(e.charge_sig[0])"
   ]
  },
  {
   "cell_type": "code",
   "execution_count": 5,
   "id": "55f76946-4df1-4dd8-9180-76940dc68cbd",
   "metadata": {},
   "outputs": [
    {
     "name": "stdout",
     "output_type": "stream",
     "text": [
      "1 1675.0\n"
     ]
    }
   ],
   "source": [
    "ps_ori=R.TSpectrum(6)\n",
    "n_peaks_ori=ps_ori.Search(h_ori,3,\"goff\",0.8)\n",
    "if(n_peaks_ori>0):\n",
    "    print(n_peaks_ori,ps_ori.GetPositionX()[n_peaks_ori-1])"
   ]
  },
  {
   "cell_type": "code",
   "execution_count": 6,
   "id": "a48b457f-60d0-46a0-b9c4-95f75b4a1acf",
   "metadata": {},
   "outputs": [],
   "source": [
    "c1=R.TCanvas('c1','c1',800,600)"
   ]
  },
  {
   "cell_type": "code",
   "execution_count": 7,
   "id": "ea9cdbb1-ba15-46e1-91e9-688fa2f816c5",
   "metadata": {},
   "outputs": [],
   "source": [
    "rgen=R.TRandom3(100)\n",
    "\n",
    "def smeared_scaled(tree,hFit,norm,scale,smear):\n",
    "    hOut=hFit.Clone('hOut')\n",
    "    hOut.Reset()\n",
    "    for j in range(5):\n",
    "        for e in tree:\n",
    "            hOut.Fill(e.charge_sig[0]*scale+rgen.Gaus(0,smear),norm)\n",
    "#    hOut.Sumw2()\n",
    "    hOut.Scale(1/5.)\n",
    "    hOut.Smooth()\n",
    "    return hOut\n",
    "\n",
    "def chi2_func(norm,scale,smear):\n",
    "    chi2=0\n",
    "    hOut=smeared_scaled(fft_digi_ori,h_2,norm,scale,smear)\n",
    "    for i in range(min_bin,max_bin):\n",
    "        chi2+=(h_2.GetBinContent(i)-hOut.GetBinContent(i))**2/(h_2.GetBinError(i)**2+(hOut.GetBinError(i)*5)**2)\n",
    "    return chi2"
   ]
  },
  {
   "cell_type": "code",
   "execution_count": 8,
   "id": "510bfbfa-fe7a-4abe-85f2-e08bc624f81a",
   "metadata": {},
   "outputs": [],
   "source": [
    "run_target='479_HPK_CH10_OV0.8_Tm40_run169'\n",
    "f2=R.TFile('data/h4Reco_%s.root'%run_target)\n",
    "\n",
    "fft_digi_2=f2.Get(\"fft_digi\")\n",
    "fft_digi_2.SetBranchStatus(\"*\",0)\n",
    "fft_digi_2.SetBranchStatus(\"charge_sig\",1)\n",
    "\n",
    "h_2=R.TH1F('h_2','h_2',200,0,10000)"
   ]
  },
  {
   "cell_type": "code",
   "execution_count": 9,
   "id": "a4b3723b-fb2f-4dc0-a0d4-4c318acf6fc8",
   "metadata": {},
   "outputs": [],
   "source": [
    "for e in fft_digi_2:\n",
    "    h_2.Fill(e.charge_sig[0])"
   ]
  },
  {
   "cell_type": "code",
   "execution_count": 10,
   "id": "814b8226-f43e-49cb-9ac8-fa143c44015b",
   "metadata": {},
   "outputs": [
    {
     "name": "stdout",
     "output_type": "stream",
     "text": [
      "1 1275.0\n"
     ]
    }
   ],
   "source": [
    "ps=R.TSpectrum(6)\n",
    "n_peaks=ps.Search(h_2,3,\"goff\",0.8)\n",
    "if(n_peaks>0):\n",
    "    print(n_peaks,ps.GetPositionX()[n_peaks-1])"
   ]
  },
  {
   "cell_type": "code",
   "execution_count": 11,
   "id": "763259f5-4dff-492a-b8df-b217772b5be4",
   "metadata": {},
   "outputs": [],
   "source": [
    "#R.gROOT.ProcessLine('.L ./my_minizer.C+')"
   ]
  },
  {
   "cell_type": "code",
   "execution_count": 12,
   "id": "d39eb377-42bb-4ef9-8fa5-f89f4744f880",
   "metadata": {},
   "outputs": [],
   "source": [
    "#R.NumericalMinimization(fft_digi_ori,h_2,1300,3000)"
   ]
  },
  {
   "cell_type": "code",
   "execution_count": 13,
   "id": "81afd59f-8fff-4d90-8520-c9ba548c1cfb",
   "metadata": {},
   "outputs": [
    {
     "name": "stdout",
     "output_type": "stream",
     "text": [
      "{'norm': 1.4, 'scale': 0.82, 'smear': 190}\n"
     ]
    }
   ],
   "source": [
    "import numpy as np\n",
    "\n",
    "ranges={\n",
    "    'norm':{'ini':1.4,'step':0.1},\n",
    "    'scale':{'ini':0.82,'step':0.005},\n",
    "    'smear':{'ini':190,'step':5}\n",
    "}\n",
    "minG={}\n",
    "\n",
    "#should be made parametric\n",
    "minX=max([.7*ps.GetPositionX()[n_peaks-1],1000])\n",
    "maxX=max([1.7*ps.GetPositionX()[n_peaks-1]])\n",
    "\n",
    "#minX=max([.7*ps.GetPositionX()[n_peaks-1],2000])\n",
    "#maxX=max([1.7*ps.GetPositionX()[n_peaks-1],4500])\n",
    "\n",
    "min_bin=h_2.FindBin(minX)\n",
    "max_bin=h_2.FindBin(maxX)\n",
    "init_values={}\n",
    "\n",
    "#init\n",
    "for ipar,(par,par_range) in enumerate(ranges.items()):\n",
    "    minG[par]=R.TGraph()\n",
    "    init_values[par]=par_range['ini']\n",
    "print(init_values)"
   ]
  },
  {
   "cell_type": "code",
   "execution_count": 14,
   "id": "7dcc9d86-dfc7-460a-b02e-3335d66f17ab",
   "metadata": {},
   "outputs": [
    {
     "data": {
      "image/png": "[encoded data removed]",
      "text/plain": [
       "<IPython.core.display.Image object>"
      ]
     },
     "metadata": {},
     "output_type": "display_data"
    }
   ],
   "source": [
    "h_fit=smeared_scaled(fft_digi_ori,h_2,ranges['norm']['ini'],ranges['scale']['ini'],ranges['smear']['ini'])\n",
    "R.gStyle.SetOptStat(0)\n",
    "h_2.SetStats(0)\n",
    "h_2.Draw('PE')\n",
    "h_2.SetMarkerStyle(20)\n",
    "h_2.SetMarkerSize(1.2)\n",
    "h_2.SetMarkerColor(R.kBlack)\n",
    "h_2.SetLineColor(R.kBlack)\n",
    "h_fit.Draw('PSAME')\n",
    "h_fit.SetMarkerColor(R.kRed)\n",
    "h_fit.SetLineColor(R.kRed)\n",
    "#h_ori.Draw('SAME')\n",
    "h_2.SetMaximum(h_2.GetMaximum()*1.6)\n",
    "h_2.GetXaxis().SetRangeUser(minX,maxX)\n",
    "h_2.GetXaxis().SetTitle('ADC')\n",
    "c1.Draw()"
   ]
  },
  {
   "cell_type": "code",
   "execution_count": 15,
   "id": "acf3b15f-4a23-4b40-8e4f-f574fa6c34cc",
   "metadata": {},
   "outputs": [
    {
     "name": "stdout",
     "output_type": "stream",
     "text": [
      "0 norm 0 {'norm': 0.8999999999999999, 'scale': 0.82, 'smear': 190} 350.65797270901516\n"
     ]
    },
    {
     "ename": "KeyboardInterrupt",
     "evalue": "",
     "output_type": "error",
     "traceback": [
      "\u001b[0;31m---------------------------------------------------------------------------\u001b[0m",
      "\u001b[0;31mKeyboardInterrupt\u001b[0m                         Traceback (most recent call last)",
      "\u001b[0;32m<ipython-input-15-0b35870b4707>\u001b[0m in \u001b[0;36m<module>\u001b[0;34m\u001b[0m\n\u001b[1;32m     16\u001b[0m         \u001b[0;32mfor\u001b[0m \u001b[0mival\u001b[0m\u001b[0;34m,\u001b[0m\u001b[0ma\u001b[0m \u001b[0;32min\u001b[0m \u001b[0menumerate\u001b[0m\u001b[0;34m(\u001b[0m\u001b[0mnp\u001b[0m\u001b[0;34m.\u001b[0m\u001b[0marange\u001b[0m\u001b[0;34m(\u001b[0m\u001b[0mpar_range\u001b[0m\u001b[0;34m[\u001b[0m\u001b[0;34m'ini'\u001b[0m\u001b[0;34m]\u001b[0m\u001b[0;34m-\u001b[0m\u001b[0;36m5\u001b[0m\u001b[0;34m*\u001b[0m\u001b[0mpar_range\u001b[0m\u001b[0;34m[\u001b[0m\u001b[0;34m'step'\u001b[0m\u001b[0;34m]\u001b[0m\u001b[0;34m,\u001b[0m\u001b[0mpar_range\u001b[0m\u001b[0;34m[\u001b[0m\u001b[0;34m'ini'\u001b[0m\u001b[0;34m]\u001b[0m\u001b[0;34m+\u001b[0m\u001b[0;36m5\u001b[0m\u001b[0;34m*\u001b[0m\u001b[0mpar_range\u001b[0m\u001b[0;34m[\u001b[0m\u001b[0;34m'step'\u001b[0m\u001b[0;34m]\u001b[0m\u001b[0;34m,\u001b[0m\u001b[0mpar_range\u001b[0m\u001b[0;34m[\u001b[0m\u001b[0;34m'step'\u001b[0m\u001b[0;34m]\u001b[0m\u001b[0;34m)\u001b[0m\u001b[0;34m)\u001b[0m\u001b[0;34m:\u001b[0m\u001b[0;34m\u001b[0m\u001b[0;34m\u001b[0m\u001b[0m\n\u001b[1;32m     17\u001b[0m             \u001b[0mtval\u001b[0m\u001b[0;34m[\u001b[0m\u001b[0mpar\u001b[0m\u001b[0;34m]\u001b[0m\u001b[0;34m=\u001b[0m\u001b[0ma\u001b[0m\u001b[0;34m\u001b[0m\u001b[0;34m\u001b[0m\u001b[0m\n\u001b[0;32m---> 18\u001b[0;31m             \u001b[0mval\u001b[0m\u001b[0;34m=\u001b[0m\u001b[0mchi2_func\u001b[0m\u001b[0;34m(\u001b[0m\u001b[0mtval\u001b[0m\u001b[0;34m[\u001b[0m\u001b[0;34m'norm'\u001b[0m\u001b[0;34m]\u001b[0m\u001b[0;34m,\u001b[0m\u001b[0mtval\u001b[0m\u001b[0;34m[\u001b[0m\u001b[0;34m'scale'\u001b[0m\u001b[0;34m]\u001b[0m\u001b[0;34m,\u001b[0m\u001b[0mtval\u001b[0m\u001b[0;34m[\u001b[0m\u001b[0;34m'smear'\u001b[0m\u001b[0;34m]\u001b[0m\u001b[0;34m)\u001b[0m\u001b[0;34m\u001b[0m\u001b[0;34m\u001b[0m\u001b[0m\n\u001b[0m\u001b[1;32m     19\u001b[0m             \u001b[0mprint\u001b[0m\u001b[0;34m(\u001b[0m\u001b[0miter\u001b[0m\u001b[0;34m,\u001b[0m\u001b[0mpar\u001b[0m\u001b[0;34m,\u001b[0m\u001b[0mival\u001b[0m\u001b[0;34m,\u001b[0m\u001b[0mtval\u001b[0m\u001b[0;34m,\u001b[0m\u001b[0mval\u001b[0m\u001b[0;34m)\u001b[0m\u001b[0;34m\u001b[0m\u001b[0;34m\u001b[0m\u001b[0m\n\u001b[1;32m     20\u001b[0m             \u001b[0mminG\u001b[0m\u001b[0;34m[\u001b[0m\u001b[0mpar\u001b[0m\u001b[0;34m]\u001b[0m\u001b[0;34m.\u001b[0m\u001b[0mSetPoint\u001b[0m\u001b[0;34m(\u001b[0m\u001b[0mival\u001b[0m\u001b[0;34m,\u001b[0m\u001b[0ma\u001b[0m\u001b[0;34m,\u001b[0m\u001b[0mval\u001b[0m\u001b[0;34m)\u001b[0m\u001b[0;34m\u001b[0m\u001b[0;34m\u001b[0m\u001b[0m\n",
      "\u001b[0;32m<ipython-input-7-28353cacf6df>\u001b[0m in \u001b[0;36mchi2_func\u001b[0;34m(norm, scale, smear)\u001b[0m\n\u001b[1;32m     14\u001b[0m \u001b[0;32mdef\u001b[0m \u001b[0mchi2_func\u001b[0m\u001b[0;34m(\u001b[0m\u001b[0mnorm\u001b[0m\u001b[0;34m,\u001b[0m\u001b[0mscale\u001b[0m\u001b[0;34m,\u001b[0m\u001b[0msmear\u001b[0m\u001b[0;34m)\u001b[0m\u001b[0;34m:\u001b[0m\u001b[0;34m\u001b[0m\u001b[0;34m\u001b[0m\u001b[0m\n\u001b[1;32m     15\u001b[0m     \u001b[0mchi2\u001b[0m\u001b[0;34m=\u001b[0m\u001b[0;36m0\u001b[0m\u001b[0;34m\u001b[0m\u001b[0;34m\u001b[0m\u001b[0m\n\u001b[0;32m---> 16\u001b[0;31m     \u001b[0mhOut\u001b[0m\u001b[0;34m=\u001b[0m\u001b[0msmeared_scaled\u001b[0m\u001b[0;34m(\u001b[0m\u001b[0mfft_digi_ori\u001b[0m\u001b[0;34m,\u001b[0m\u001b[0mh_2\u001b[0m\u001b[0;34m,\u001b[0m\u001b[0mnorm\u001b[0m\u001b[0;34m,\u001b[0m\u001b[0mscale\u001b[0m\u001b[0;34m,\u001b[0m\u001b[0msmear\u001b[0m\u001b[0;34m)\u001b[0m\u001b[0;34m\u001b[0m\u001b[0;34m\u001b[0m\u001b[0m\n\u001b[0m\u001b[1;32m     17\u001b[0m     \u001b[0;32mfor\u001b[0m \u001b[0mi\u001b[0m \u001b[0;32min\u001b[0m \u001b[0mrange\u001b[0m\u001b[0;34m(\u001b[0m\u001b[0mmin_bin\u001b[0m\u001b[0;34m,\u001b[0m\u001b[0mmax_bin\u001b[0m\u001b[0;34m)\u001b[0m\u001b[0;34m:\u001b[0m\u001b[0;34m\u001b[0m\u001b[0;34m\u001b[0m\u001b[0m\n\u001b[1;32m     18\u001b[0m         \u001b[0mchi2\u001b[0m\u001b[0;34m+=\u001b[0m\u001b[0;34m(\u001b[0m\u001b[0mh_2\u001b[0m\u001b[0;34m.\u001b[0m\u001b[0mGetBinContent\u001b[0m\u001b[0;34m(\u001b[0m\u001b[0mi\u001b[0m\u001b[0;34m)\u001b[0m\u001b[0;34m-\u001b[0m\u001b[0mhOut\u001b[0m\u001b[0;34m.\u001b[0m\u001b[0mGetBinContent\u001b[0m\u001b[0;34m(\u001b[0m\u001b[0mi\u001b[0m\u001b[0;34m)\u001b[0m\u001b[0;34m)\u001b[0m\u001b[0;34m**\u001b[0m\u001b[0;36m2\u001b[0m\u001b[0;34m/\u001b[0m\u001b[0;34m(\u001b[0m\u001b[0mh_2\u001b[0m\u001b[0;34m.\u001b[0m\u001b[0mGetBinError\u001b[0m\u001b[0;34m(\u001b[0m\u001b[0mi\u001b[0m\u001b[0;34m)\u001b[0m\u001b[0;34m**\u001b[0m\u001b[0;36m2\u001b[0m\u001b[0;34m+\u001b[0m\u001b[0;34m(\u001b[0m\u001b[0mhOut\u001b[0m\u001b[0;34m.\u001b[0m\u001b[0mGetBinError\u001b[0m\u001b[0;34m(\u001b[0m\u001b[0mi\u001b[0m\u001b[0;34m)\u001b[0m\u001b[0;34m*\u001b[0m\u001b[0;36m5\u001b[0m\u001b[0;34m)\u001b[0m\u001b[0;34m**\u001b[0m\u001b[0;36m2\u001b[0m\u001b[0;34m)\u001b[0m\u001b[0;34m\u001b[0m\u001b[0;34m\u001b[0m\u001b[0m\n",
      "\u001b[0;32m<ipython-input-7-28353cacf6df>\u001b[0m in \u001b[0;36msmeared_scaled\u001b[0;34m(tree, hFit, norm, scale, smear)\u001b[0m\n\u001b[1;32m      6\u001b[0m     \u001b[0;32mfor\u001b[0m \u001b[0mj\u001b[0m \u001b[0;32min\u001b[0m \u001b[0mrange\u001b[0m\u001b[0;34m(\u001b[0m\u001b[0;36m5\u001b[0m\u001b[0;34m)\u001b[0m\u001b[0;34m:\u001b[0m\u001b[0;34m\u001b[0m\u001b[0;34m\u001b[0m\u001b[0m\n\u001b[1;32m      7\u001b[0m         \u001b[0;32mfor\u001b[0m \u001b[0me\u001b[0m \u001b[0;32min\u001b[0m \u001b[0mtree\u001b[0m\u001b[0;34m:\u001b[0m\u001b[0;34m\u001b[0m\u001b[0;34m\u001b[0m\u001b[0m\n\u001b[0;32m----> 8\u001b[0;31m             \u001b[0mhOut\u001b[0m\u001b[0;34m.\u001b[0m\u001b[0mFill\u001b[0m\u001b[0;34m(\u001b[0m\u001b[0me\u001b[0m\u001b[0;34m.\u001b[0m\u001b[0mcharge_sig\u001b[0m\u001b[0;34m[\u001b[0m\u001b[0;36m0\u001b[0m\u001b[0;34m]\u001b[0m\u001b[0;34m*\u001b[0m\u001b[0mscale\u001b[0m\u001b[0;34m+\u001b[0m\u001b[0mrgen\u001b[0m\u001b[0;34m.\u001b[0m\u001b[0mGaus\u001b[0m\u001b[0;34m(\u001b[0m\u001b[0;36m0\u001b[0m\u001b[0;34m,\u001b[0m\u001b[0msmear\u001b[0m\u001b[0;34m)\u001b[0m\u001b[0;34m,\u001b[0m\u001b[0mnorm\u001b[0m\u001b[0;34m)\u001b[0m\u001b[0;34m\u001b[0m\u001b[0;34m\u001b[0m\u001b[0m\n\u001b[0m\u001b[1;32m      9\u001b[0m \u001b[0;31m#    hOut.Sumw2()\u001b[0m\u001b[0;34m\u001b[0m\u001b[0;34m\u001b[0m\u001b[0;34m\u001b[0m\u001b[0m\n\u001b[1;32m     10\u001b[0m     \u001b[0mhOut\u001b[0m\u001b[0;34m.\u001b[0m\u001b[0mScale\u001b[0m\u001b[0;34m(\u001b[0m\u001b[0;36m1\u001b[0m\u001b[0;34m/\u001b[0m\u001b[0;36m5.\u001b[0m\u001b[0;34m)\u001b[0m\u001b[0;34m\u001b[0m\u001b[0;34m\u001b[0m\u001b[0m\n",
      "\u001b[0;31mKeyboardInterrupt\u001b[0m: "
     ]
    }
   ],
   "source": [
    "#scan\n",
    "tval={}\n",
    "min_values=[99999.]\n",
    "tolerance=1\n",
    "min_diff=99999.\n",
    "iter=0\n",
    "\n",
    "watch=R.TStopwatch()\n",
    "while (abs(min_diff)>tolerance):\n",
    "    watch.Start()\n",
    "    for ipar,(par,par_range) in enumerate(ranges.items()):\n",
    "        #reinit\n",
    "        minG[par].Clear()\n",
    "        for ini_par in ranges:\n",
    "            tval[ini_par]=init_values[ini_par]\n",
    "        for ival,a in enumerate(np.arange(par_range['ini']-5*par_range['step'],par_range['ini']+5*par_range['step'],par_range['step'])):\n",
    "            tval[par]=a\n",
    "            val=chi2_func(tval['norm'],tval['scale'],tval['smear'])\n",
    "            print(iter,par,ival,tval,val)\n",
    "            minG[par].SetPoint(ival,a,val)\n",
    "        minG[par].Fit('pol2')\n",
    "    for par in ranges:\n",
    "        init_values[par]=minG[par].GetFunction(\"pol2\").GetMinimumX()\n",
    "    min_values.append(chi2_func(init_values['norm'],init_values['scale'],init_values['smear']))\n",
    "    min_diff=min_values[-1]-min_values[-2]\n",
    "    watch.Stop()\n",
    "    print(\"=====> \",iter,min_values[-1],min_diff,init_values)\n",
    "    watch.Print()\n",
    "    iter+=1"
   ]
  },
  {
   "cell_type": "code",
   "execution_count": null,
   "id": "0efb2baf-41ab-4d36-a34a-0ce3dbc92591",
   "metadata": {},
   "outputs": [],
   "source": [
    "for ipar,(par,par_range) in enumerate(ranges.items()):\n",
    "    #minG[par].Draw(\"A*\")\n",
    "    #minG[par].Fit(\"pol2\")\n",
    "    min_x=minG[par].GetFunction(\"pol2\").GetMinimumX()\n",
    "    min_val=minG[par].GetFunction(\"pol2\").GetMinimum()\n",
    "    delta_plus=minG[par].GetFunction(\"pol2\").GetX(min_val+1,min_x,min_x+5*ranges[par]['step'])-min_val\n",
    "    delta_minus=min_val-minG[par].GetFunction(\"pol2\").GetX(min_val+1,min_x-5*ranges[par]['step'],min_x)\n",
    "    delta=(delta_plus+delta_minus)*0.5\n",
    "    ranges[par]['min']=min_x\n",
    "    ranges[par]['err']=delta"
   ]
  },
  {
   "cell_type": "code",
   "execution_count": null,
   "id": "fb68941a-080c-45f9-9868-704d51de31cd",
   "metadata": {},
   "outputs": [],
   "source": [
    "h_fit_min=smeared_scaled(fft_digi_ori,h_2,ranges['norm']['min'],ranges['scale']['min'],ranges['smear']['min'])"
   ]
  },
  {
   "cell_type": "code",
   "execution_count": null,
   "id": "f38f2d21-8188-405c-8290-4831c959c1db",
   "metadata": {},
   "outputs": [],
   "source": [
    "#Draw fit result\n",
    "R.gStyle.SetOptTitle(0)\n",
    "\n",
    "l=R.TLegend(0.1,0.7,0.4,0.86)\n",
    "l.SetFillColorAlpha(0,0)\n",
    "l.SetBorderSize(0)\n",
    "l.SetTextSize(0.03)\n",
    "\n",
    "h_2.Draw('PE')\n",
    "l.AddEntry(h_2,'Target','P')\n",
    "\n",
    "h_fit_min.Draw('PSAME')\n",
    "h_fit_min.SetMarkerColor(R.kRed)\n",
    "h_fit_min.SetMarkerStyle(24)\n",
    "h_fit_min.SetMarkerSize(1.2)\n",
    "#h_fit_min.SetLineColor(R.kRed)\n",
    "l.AddEntry(h_fit_min,'Fit (Scaled + DCR Noise)','P')\n",
    "\n",
    "\n",
    "#h_2.SetMaximum(4000)\n",
    "h_2.GetXaxis().SetRangeUser(0.3*ps.GetPositionX()[n_peaks-1],2.2*ps.GetPositionX()[n_peaks-1])\n",
    "#h_2.GetXaxis().SetTitle('ADC')\n",
    "h_ori_c=h_ori.Clone('h_ori_c')\n",
    "h_ori_c.Scale(h_2.GetEntries()/h_ori.GetEntries())\n",
    "h_ori_c.Draw('SAME')\n",
    "l.AddEntry(h_ori,'Original','PL')\n",
    "\n",
    "t=R.TLatex()\n",
    "t.SetTextSize(0.035)\n",
    "\n",
    "results=R.TGraphErrors()\n",
    "for ipar,(par,r) in enumerate(ranges.items()):\n",
    "    t.DrawLatexNDC(0.6,0.825-ipar*0.04,\"%s = %.3f #pm %.3f\"%(par,r['min'],r['err']))\n",
    "    results.SetPoint(ipar,ipar,r['min'])\n",
    "    results.SetPointError(ipar,0,r['err'])\n",
    "l.Draw()\n",
    "c1.Draw()\n",
    "for ext in ['.png','.pdf']:\n",
    "    c1.SaveAs('results/fit_%s%s'%(run_target,ext))\n",
    "\n",
    "fResults=R.TFile('results/fit_%s.root'%run_target,'RECREATE')\n",
    "h_2.Write()\n",
    "h_ori.Write()\n",
    "h_fit_min.Write()\n",
    "results.Write('fitResults')\n",
    "fResults.Close()"
   ]
  },
  {
   "cell_type": "code",
   "execution_count": null,
   "id": "a9e2ab1a-358d-42bf-b44b-386b70ccd74f",
   "metadata": {},
   "outputs": [],
   "source": []
  }
 ],
 "metadata": {
  "kernelspec": {
   "display_name": "Python 3",
   "language": "python",
   "name": "python3"
  },
  "language_info": {
   "codemirror_mode": {
    "name": "ipython",
    "version": 3
   },
   "file_extension": ".py",
   "mimetype": "text/x-python",
   "name": "python",
   "nbconvert_exporter": "python",
   "pygments_lexer": "ipython3",
   "version": "3.9.4"
  }
 },
 "nbformat": 4,
 "nbformat_minor": 5
}
